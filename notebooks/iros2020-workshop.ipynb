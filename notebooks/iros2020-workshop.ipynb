{
 "cells": [
  {
   "cell_type": "markdown",
   "metadata": {},
   "source": [
    "# IROS 2020 workshop: REVIEW ON SCREW THEORY & GEOMETRIC ROBOT DYNAMICS"
   ]
  },
  {
   "cell_type": "markdown",
   "metadata": {},
   "source": [
    "This notebook corresponds to my virtual tutorial at the IROS 2020 workshop on Screw Theory and Geometric Robot Dynamics.\n",
    "\n",
    "First, import some packages, and set things up just so."
   ]
  },
  {
   "cell_type": "code",
   "execution_count": 3,
   "metadata": {},
   "outputs": [],
   "source": [
    "import numpy as np\n",
    "\n",
    "import roboticstoolbox as rtb\n",
    "from spatialmath.base import *\n",
    "from spatialmath import SE3, Twist3\n",
    "import matplotlib.pyplot as plt\n",
    "\n",
    "np.set_printoptions(linewidth=100, formatter={'float': lambda x: f\"{x:8.4g}\" if abs(x) > 1e-10 else f\"{0:8.4g}\"})\n",
    "\n",
    "%matplotlib notebook"
   ]
  },
  {
   "cell_type": "markdown",
   "metadata": {},
   "source": [
    "## Creating and using a simple Denavit-Hartenberg model\n",
    "First we define a robot, we will choose the classical Puma robot which includes both a kinematic and dynamic model"
   ]
  },
  {
   "cell_type": "code",
   "execution_count": 4,
   "metadata": {},
   "outputs": [],
   "source": [
    "puma = rtb.models.DH.Puma560()"
   ]
  },
  {
   "cell_type": "markdown",
   "metadata": {},
   "source": [
    "which has created an object in the local _workspace_ which subclasses the `DHRobot` class which subclasses the top-level `Robot` class.  If we print this we get some detailed information about it's kinematics as well as the base and tool transforms, and some predefined joint configurations"
   ]
  },
  {
   "cell_type": "code",
   "execution_count": 5,
   "metadata": {},
   "outputs": [
    {
     "name": "stdout",
     "output_type": "stream",
     "text": [
      "┏━━━┳━━━━━━━━━┳━━━━━━━━┳━━━━━━━━┓\n",
      "┃θⱼ ┃   dⱼ    ┃   aⱼ   ┃   ⍺ⱼ   ┃\n",
      "┣━━━╋━━━━━━━━━╋━━━━━━━━╋━━━━━━━━┫\n",
      "┃q1 ┃   0.672 ┃      0 ┃  90.0° ┃\n",
      "┃q2 ┃       0 ┃ 0.4318 ┃   0.0° ┃\n",
      "┃q3 ┃ 0.15005 ┃ 0.0203 ┃ -90.0° ┃\n",
      "┃q4 ┃  0.4318 ┃      0 ┃  90.0° ┃\n",
      "┃q5 ┃       0 ┃      0 ┃ -90.0° ┃\n",
      "┃q6 ┃       0 ┃      0 ┃   0.0° ┃\n",
      "┗━━━┻━━━━━━━━━┻━━━━━━━━┻━━━━━━━━┛\n",
      "\n",
      "┌───┬────────────────────────────┐\n",
      "│qz │ 0°, 0°, 0°, 0°, 0°, 0°     │\n",
      "│qr │ 0°, 90°, -90°, 0°, 0°, 0°  │\n",
      "│qs │ 0°, 0°, -90°, 0°, 0°, 0°   │\n",
      "│qn │ 0°, 45°, 180°, 0°, 45°, 0° │\n",
      "└───┴────────────────────────────┘\n",
      "\n"
     ]
    }
   ],
   "source": [
    "print(puma)"
   ]
  },
  {
   "cell_type": "markdown",
   "metadata": {},
   "source": [
    "and we can plot the robot in its zero-joint-angle configuration"
   ]
  },
  {
   "cell_type": "code",
   "execution_count": 6,
   "metadata": {},
   "outputs": [
    {
     "data": {
      "application/javascript": [
       "/* Put everything inside the global mpl namespace */\n",
       "/* global mpl */\n",
       "window.mpl = {};\n",
       "\n",
       "mpl.get_websocket_type = function () {\n",
       "    if (typeof WebSocket !== 'undefined') {\n",
       "        return WebSocket;\n",
       "    } else if (typeof MozWebSocket !== 'undefined') {\n",
       "        return MozWebSocket;\n",
       "    } else {\n",
       "        alert(\n",
       "            'Your browser does not have WebSocket support. ' +\n",
       "                'Please try Chrome, Safari or Firefox ≥ 6. ' +\n",
       "                'Firefox 4 and 5 are also supported but you ' +\n",
       "                'have to enable WebSockets in about:config.'\n",
       "        );\n",
       "    }\n",
       "};\n",
       "\n",
       "mpl.figure = function (figure_id, websocket, ondownload, parent_element) {\n",
       "    this.id = figure_id;\n",
       "\n",
       "    this.ws = websocket;\n",
       "\n",
       "    this.supports_binary = this.ws.binaryType !== undefined;\n",
       "\n",
       "    if (!this.supports_binary) {\n",
       "        var warnings = document.getElementById('mpl-warnings');\n",
       "        if (warnings) {\n",
       "            warnings.style.display = 'block';\n",
       "            warnings.textContent =\n",
       "                'This browser does not support binary websocket messages. ' +\n",
       "                'Performance may be slow.';\n",
       "        }\n",
       "    }\n",
       "\n",
       "    this.imageObj = new Image();\n",
       "\n",
       "    this.context = undefined;\n",
       "    this.message = undefined;\n",
       "    this.canvas = undefined;\n",
       "    this.rubberband_canvas = undefined;\n",
       "    this.rubberband_context = undefined;\n",
       "    this.format_dropdown = undefined;\n",
       "\n",
       "    this.image_mode = 'full';\n",
       "\n",
       "    this.root = document.createElement('div');\n",
       "    this.root.setAttribute('style', 'display: inline-block');\n",
       "    this._root_extra_style(this.root);\n",
       "\n",
       "    parent_element.appendChild(this.root);\n",
       "\n",
       "    this._init_header(this);\n",
       "    this._init_canvas(this);\n",
       "    this._init_toolbar(this);\n",
       "\n",
       "    var fig = this;\n",
       "\n",
       "    this.waiting = false;\n",
       "\n",
       "    this.ws.onopen = function () {\n",
       "        fig.send_message('supports_binary', { value: fig.supports_binary });\n",
       "        fig.send_message('send_image_mode', {});\n",
       "        if (mpl.ratio !== 1) {\n",
       "            fig.send_message('set_dpi_ratio', { dpi_ratio: mpl.ratio });\n",
       "        }\n",
       "        fig.send_message('refresh', {});\n",
       "    };\n",
       "\n",
       "    this.imageObj.onload = function () {\n",
       "        if (fig.image_mode === 'full') {\n",
       "            // Full images could contain transparency (where diff images\n",
       "            // almost always do), so we need to clear the canvas so that\n",
       "            // there is no ghosting.\n",
       "            fig.context.clearRect(0, 0, fig.canvas.width, fig.canvas.height);\n",
       "        }\n",
       "        fig.context.drawImage(fig.imageObj, 0, 0);\n",
       "    };\n",
       "\n",
       "    this.imageObj.onunload = function () {\n",
       "        fig.ws.close();\n",
       "    };\n",
       "\n",
       "    this.ws.onmessage = this._make_on_message_function(this);\n",
       "\n",
       "    this.ondownload = ondownload;\n",
       "};\n",
       "\n",
       "mpl.figure.prototype._init_header = function () {\n",
       "    var titlebar = document.createElement('div');\n",
       "    titlebar.classList =\n",
       "        'ui-dialog-titlebar ui-widget-header ui-corner-all ui-helper-clearfix';\n",
       "    var titletext = document.createElement('div');\n",
       "    titletext.classList = 'ui-dialog-title';\n",
       "    titletext.setAttribute(\n",
       "        'style',\n",
       "        'width: 100%; text-align: center; padding: 3px;'\n",
       "    );\n",
       "    titlebar.appendChild(titletext);\n",
       "    this.root.appendChild(titlebar);\n",
       "    this.header = titletext;\n",
       "};\n",
       "\n",
       "mpl.figure.prototype._canvas_extra_style = function (_canvas_div) {};\n",
       "\n",
       "mpl.figure.prototype._root_extra_style = function (_canvas_div) {};\n",
       "\n",
       "mpl.figure.prototype._init_canvas = function () {\n",
       "    var fig = this;\n",
       "\n",
       "    var canvas_div = (this.canvas_div = document.createElement('div'));\n",
       "    canvas_div.setAttribute(\n",
       "        'style',\n",
       "        'border: 1px solid #ddd;' +\n",
       "            'box-sizing: content-box;' +\n",
       "            'clear: both;' +\n",
       "            'min-height: 1px;' +\n",
       "            'min-width: 1px;' +\n",
       "            'outline: 0;' +\n",
       "            'overflow: hidden;' +\n",
       "            'position: relative;' +\n",
       "            'resize: both;'\n",
       "    );\n",
       "\n",
       "    function on_keyboard_event_closure(name) {\n",
       "        return function (event) {\n",
       "            return fig.key_event(event, name);\n",
       "        };\n",
       "    }\n",
       "\n",
       "    canvas_div.addEventListener(\n",
       "        'keydown',\n",
       "        on_keyboard_event_closure('key_press')\n",
       "    );\n",
       "    canvas_div.addEventListener(\n",
       "        'keyup',\n",
       "        on_keyboard_event_closure('key_release')\n",
       "    );\n",
       "\n",
       "    this._canvas_extra_style(canvas_div);\n",
       "    this.root.appendChild(canvas_div);\n",
       "\n",
       "    var canvas = (this.canvas = document.createElement('canvas'));\n",
       "    canvas.classList.add('mpl-canvas');\n",
       "    canvas.setAttribute('style', 'box-sizing: content-box;');\n",
       "\n",
       "    this.context = canvas.getContext('2d');\n",
       "\n",
       "    var backingStore =\n",
       "        this.context.backingStorePixelRatio ||\n",
       "        this.context.webkitBackingStorePixelRatio ||\n",
       "        this.context.mozBackingStorePixelRatio ||\n",
       "        this.context.msBackingStorePixelRatio ||\n",
       "        this.context.oBackingStorePixelRatio ||\n",
       "        this.context.backingStorePixelRatio ||\n",
       "        1;\n",
       "\n",
       "    mpl.ratio = (window.devicePixelRatio || 1) / backingStore;\n",
       "\n",
       "    var rubberband_canvas = (this.rubberband_canvas = document.createElement(\n",
       "        'canvas'\n",
       "    ));\n",
       "    rubberband_canvas.setAttribute(\n",
       "        'style',\n",
       "        'box-sizing: content-box; position: absolute; left: 0; top: 0; z-index: 1;'\n",
       "    );\n",
       "\n",
       "    var resizeObserver = new ResizeObserver(function (entries) {\n",
       "        var nentries = entries.length;\n",
       "        for (var i = 0; i < nentries; i++) {\n",
       "            var entry = entries[i];\n",
       "            var width, height;\n",
       "            if (entry.contentBoxSize) {\n",
       "                if (entry.contentBoxSize instanceof Array) {\n",
       "                    // Chrome 84 implements new version of spec.\n",
       "                    width = entry.contentBoxSize[0].inlineSize;\n",
       "                    height = entry.contentBoxSize[0].blockSize;\n",
       "                } else {\n",
       "                    // Firefox implements old version of spec.\n",
       "                    width = entry.contentBoxSize.inlineSize;\n",
       "                    height = entry.contentBoxSize.blockSize;\n",
       "                }\n",
       "            } else {\n",
       "                // Chrome <84 implements even older version of spec.\n",
       "                width = entry.contentRect.width;\n",
       "                height = entry.contentRect.height;\n",
       "            }\n",
       "\n",
       "            // Keep the size of the canvas and rubber band canvas in sync with\n",
       "            // the canvas container.\n",
       "            if (entry.devicePixelContentBoxSize) {\n",
       "                // Chrome 84 implements new version of spec.\n",
       "                canvas.setAttribute(\n",
       "                    'width',\n",
       "                    entry.devicePixelContentBoxSize[0].inlineSize\n",
       "                );\n",
       "                canvas.setAttribute(\n",
       "                    'height',\n",
       "                    entry.devicePixelContentBoxSize[0].blockSize\n",
       "                );\n",
       "            } else {\n",
       "                canvas.setAttribute('width', width * mpl.ratio);\n",
       "                canvas.setAttribute('height', height * mpl.ratio);\n",
       "            }\n",
       "            canvas.setAttribute(\n",
       "                'style',\n",
       "                'width: ' + width + 'px; height: ' + height + 'px;'\n",
       "            );\n",
       "\n",
       "            rubberband_canvas.setAttribute('width', width);\n",
       "            rubberband_canvas.setAttribute('height', height);\n",
       "\n",
       "            // And update the size in Python. We ignore the initial 0/0 size\n",
       "            // that occurs as the element is placed into the DOM, which should\n",
       "            // otherwise not happen due to the minimum size styling.\n",
       "            if (width != 0 && height != 0) {\n",
       "                fig.request_resize(width, height);\n",
       "            }\n",
       "        }\n",
       "    });\n",
       "    resizeObserver.observe(canvas_div);\n",
       "\n",
       "    function on_mouse_event_closure(name) {\n",
       "        return function (event) {\n",
       "            return fig.mouse_event(event, name);\n",
       "        };\n",
       "    }\n",
       "\n",
       "    rubberband_canvas.addEventListener(\n",
       "        'mousedown',\n",
       "        on_mouse_event_closure('button_press')\n",
       "    );\n",
       "    rubberband_canvas.addEventListener(\n",
       "        'mouseup',\n",
       "        on_mouse_event_closure('button_release')\n",
       "    );\n",
       "    // Throttle sequential mouse events to 1 every 20ms.\n",
       "    rubberband_canvas.addEventListener(\n",
       "        'mousemove',\n",
       "        on_mouse_event_closure('motion_notify')\n",
       "    );\n",
       "\n",
       "    rubberband_canvas.addEventListener(\n",
       "        'mouseenter',\n",
       "        on_mouse_event_closure('figure_enter')\n",
       "    );\n",
       "    rubberband_canvas.addEventListener(\n",
       "        'mouseleave',\n",
       "        on_mouse_event_closure('figure_leave')\n",
       "    );\n",
       "\n",
       "    canvas_div.addEventListener('wheel', function (event) {\n",
       "        if (event.deltaY < 0) {\n",
       "            event.step = 1;\n",
       "        } else {\n",
       "            event.step = -1;\n",
       "        }\n",
       "        on_mouse_event_closure('scroll')(event);\n",
       "    });\n",
       "\n",
       "    canvas_div.appendChild(canvas);\n",
       "    canvas_div.appendChild(rubberband_canvas);\n",
       "\n",
       "    this.rubberband_context = rubberband_canvas.getContext('2d');\n",
       "    this.rubberband_context.strokeStyle = '#000000';\n",
       "\n",
       "    this._resize_canvas = function (width, height, forward) {\n",
       "        if (forward) {\n",
       "            canvas_div.style.width = width + 'px';\n",
       "            canvas_div.style.height = height + 'px';\n",
       "        }\n",
       "    };\n",
       "\n",
       "    // Disable right mouse context menu.\n",
       "    this.rubberband_canvas.addEventListener('contextmenu', function (_e) {\n",
       "        event.preventDefault();\n",
       "        return false;\n",
       "    });\n",
       "\n",
       "    function set_focus() {\n",
       "        canvas.focus();\n",
       "        canvas_div.focus();\n",
       "    }\n",
       "\n",
       "    window.setTimeout(set_focus, 100);\n",
       "};\n",
       "\n",
       "mpl.figure.prototype._init_toolbar = function () {\n",
       "    var fig = this;\n",
       "\n",
       "    var toolbar = document.createElement('div');\n",
       "    toolbar.classList = 'mpl-toolbar';\n",
       "    this.root.appendChild(toolbar);\n",
       "\n",
       "    function on_click_closure(name) {\n",
       "        return function (_event) {\n",
       "            return fig.toolbar_button_onclick(name);\n",
       "        };\n",
       "    }\n",
       "\n",
       "    function on_mouseover_closure(tooltip) {\n",
       "        return function (event) {\n",
       "            if (!event.currentTarget.disabled) {\n",
       "                return fig.toolbar_button_onmouseover(tooltip);\n",
       "            }\n",
       "        };\n",
       "    }\n",
       "\n",
       "    fig.buttons = {};\n",
       "    var buttonGroup = document.createElement('div');\n",
       "    buttonGroup.classList = 'mpl-button-group';\n",
       "    for (var toolbar_ind in mpl.toolbar_items) {\n",
       "        var name = mpl.toolbar_items[toolbar_ind][0];\n",
       "        var tooltip = mpl.toolbar_items[toolbar_ind][1];\n",
       "        var image = mpl.toolbar_items[toolbar_ind][2];\n",
       "        var method_name = mpl.toolbar_items[toolbar_ind][3];\n",
       "\n",
       "        if (!name) {\n",
       "            /* Instead of a spacer, we start a new button group. */\n",
       "            if (buttonGroup.hasChildNodes()) {\n",
       "                toolbar.appendChild(buttonGroup);\n",
       "            }\n",
       "            buttonGroup = document.createElement('div');\n",
       "            buttonGroup.classList = 'mpl-button-group';\n",
       "            continue;\n",
       "        }\n",
       "\n",
       "        var button = (fig.buttons[name] = document.createElement('button'));\n",
       "        button.classList = 'mpl-widget';\n",
       "        button.setAttribute('role', 'button');\n",
       "        button.setAttribute('aria-disabled', 'false');\n",
       "        button.addEventListener('click', on_click_closure(method_name));\n",
       "        button.addEventListener('mouseover', on_mouseover_closure(tooltip));\n",
       "\n",
       "        var icon_img = document.createElement('img');\n",
       "        icon_img.src = '_images/' + image + '.png';\n",
       "        icon_img.srcset = '_images/' + image + '_large.png 2x';\n",
       "        icon_img.alt = tooltip;\n",
       "        button.appendChild(icon_img);\n",
       "\n",
       "        buttonGroup.appendChild(button);\n",
       "    }\n",
       "\n",
       "    if (buttonGroup.hasChildNodes()) {\n",
       "        toolbar.appendChild(buttonGroup);\n",
       "    }\n",
       "\n",
       "    var fmt_picker = document.createElement('select');\n",
       "    fmt_picker.classList = 'mpl-widget';\n",
       "    toolbar.appendChild(fmt_picker);\n",
       "    this.format_dropdown = fmt_picker;\n",
       "\n",
       "    for (var ind in mpl.extensions) {\n",
       "        var fmt = mpl.extensions[ind];\n",
       "        var option = document.createElement('option');\n",
       "        option.selected = fmt === mpl.default_extension;\n",
       "        option.innerHTML = fmt;\n",
       "        fmt_picker.appendChild(option);\n",
       "    }\n",
       "\n",
       "    var status_bar = document.createElement('span');\n",
       "    status_bar.classList = 'mpl-message';\n",
       "    toolbar.appendChild(status_bar);\n",
       "    this.message = status_bar;\n",
       "};\n",
       "\n",
       "mpl.figure.prototype.request_resize = function (x_pixels, y_pixels) {\n",
       "    // Request matplotlib to resize the figure. Matplotlib will then trigger a resize in the client,\n",
       "    // which will in turn request a refresh of the image.\n",
       "    this.send_message('resize', { width: x_pixels, height: y_pixels });\n",
       "};\n",
       "\n",
       "mpl.figure.prototype.send_message = function (type, properties) {\n",
       "    properties['type'] = type;\n",
       "    properties['figure_id'] = this.id;\n",
       "    this.ws.send(JSON.stringify(properties));\n",
       "};\n",
       "\n",
       "mpl.figure.prototype.send_draw_message = function () {\n",
       "    if (!this.waiting) {\n",
       "        this.waiting = true;\n",
       "        this.ws.send(JSON.stringify({ type: 'draw', figure_id: this.id }));\n",
       "    }\n",
       "};\n",
       "\n",
       "mpl.figure.prototype.handle_save = function (fig, _msg) {\n",
       "    var format_dropdown = fig.format_dropdown;\n",
       "    var format = format_dropdown.options[format_dropdown.selectedIndex].value;\n",
       "    fig.ondownload(fig, format);\n",
       "};\n",
       "\n",
       "mpl.figure.prototype.handle_resize = function (fig, msg) {\n",
       "    var size = msg['size'];\n",
       "    if (size[0] !== fig.canvas.width || size[1] !== fig.canvas.height) {\n",
       "        fig._resize_canvas(size[0], size[1], msg['forward']);\n",
       "        fig.send_message('refresh', {});\n",
       "    }\n",
       "};\n",
       "\n",
       "mpl.figure.prototype.handle_rubberband = function (fig, msg) {\n",
       "    var x0 = msg['x0'] / mpl.ratio;\n",
       "    var y0 = (fig.canvas.height - msg['y0']) / mpl.ratio;\n",
       "    var x1 = msg['x1'] / mpl.ratio;\n",
       "    var y1 = (fig.canvas.height - msg['y1']) / mpl.ratio;\n",
       "    x0 = Math.floor(x0) + 0.5;\n",
       "    y0 = Math.floor(y0) + 0.5;\n",
       "    x1 = Math.floor(x1) + 0.5;\n",
       "    y1 = Math.floor(y1) + 0.5;\n",
       "    var min_x = Math.min(x0, x1);\n",
       "    var min_y = Math.min(y0, y1);\n",
       "    var width = Math.abs(x1 - x0);\n",
       "    var height = Math.abs(y1 - y0);\n",
       "\n",
       "    fig.rubberband_context.clearRect(\n",
       "        0,\n",
       "        0,\n",
       "        fig.canvas.width / mpl.ratio,\n",
       "        fig.canvas.height / mpl.ratio\n",
       "    );\n",
       "\n",
       "    fig.rubberband_context.strokeRect(min_x, min_y, width, height);\n",
       "};\n",
       "\n",
       "mpl.figure.prototype.handle_figure_label = function (fig, msg) {\n",
       "    // Updates the figure title.\n",
       "    fig.header.textContent = msg['label'];\n",
       "};\n",
       "\n",
       "mpl.figure.prototype.handle_cursor = function (fig, msg) {\n",
       "    var cursor = msg['cursor'];\n",
       "    switch (cursor) {\n",
       "        case 0:\n",
       "            cursor = 'pointer';\n",
       "            break;\n",
       "        case 1:\n",
       "            cursor = 'default';\n",
       "            break;\n",
       "        case 2:\n",
       "            cursor = 'crosshair';\n",
       "            break;\n",
       "        case 3:\n",
       "            cursor = 'move';\n",
       "            break;\n",
       "    }\n",
       "    fig.rubberband_canvas.style.cursor = cursor;\n",
       "};\n",
       "\n",
       "mpl.figure.prototype.handle_message = function (fig, msg) {\n",
       "    fig.message.textContent = msg['message'];\n",
       "};\n",
       "\n",
       "mpl.figure.prototype.handle_draw = function (fig, _msg) {\n",
       "    // Request the server to send over a new figure.\n",
       "    fig.send_draw_message();\n",
       "};\n",
       "\n",
       "mpl.figure.prototype.handle_image_mode = function (fig, msg) {\n",
       "    fig.image_mode = msg['mode'];\n",
       "};\n",
       "\n",
       "mpl.figure.prototype.handle_history_buttons = function (fig, msg) {\n",
       "    for (var key in msg) {\n",
       "        if (!(key in fig.buttons)) {\n",
       "            continue;\n",
       "        }\n",
       "        fig.buttons[key].disabled = !msg[key];\n",
       "        fig.buttons[key].setAttribute('aria-disabled', !msg[key]);\n",
       "    }\n",
       "};\n",
       "\n",
       "mpl.figure.prototype.handle_navigate_mode = function (fig, msg) {\n",
       "    if (msg['mode'] === 'PAN') {\n",
       "        fig.buttons['Pan'].classList.add('active');\n",
       "        fig.buttons['Zoom'].classList.remove('active');\n",
       "    } else if (msg['mode'] === 'ZOOM') {\n",
       "        fig.buttons['Pan'].classList.remove('active');\n",
       "        fig.buttons['Zoom'].classList.add('active');\n",
       "    } else {\n",
       "        fig.buttons['Pan'].classList.remove('active');\n",
       "        fig.buttons['Zoom'].classList.remove('active');\n",
       "    }\n",
       "};\n",
       "\n",
       "mpl.figure.prototype.updated_canvas_event = function () {\n",
       "    // Called whenever the canvas gets updated.\n",
       "    this.send_message('ack', {});\n",
       "};\n",
       "\n",
       "// A function to construct a web socket function for onmessage handling.\n",
       "// Called in the figure constructor.\n",
       "mpl.figure.prototype._make_on_message_function = function (fig) {\n",
       "    return function socket_on_message(evt) {\n",
       "        if (evt.data instanceof Blob) {\n",
       "            /* FIXME: We get \"Resource interpreted as Image but\n",
       "             * transferred with MIME type text/plain:\" errors on\n",
       "             * Chrome.  But how to set the MIME type?  It doesn't seem\n",
       "             * to be part of the websocket stream */\n",
       "            evt.data.type = 'image/png';\n",
       "\n",
       "            /* Free the memory for the previous frames */\n",
       "            if (fig.imageObj.src) {\n",
       "                (window.URL || window.webkitURL).revokeObjectURL(\n",
       "                    fig.imageObj.src\n",
       "                );\n",
       "            }\n",
       "\n",
       "            fig.imageObj.src = (window.URL || window.webkitURL).createObjectURL(\n",
       "                evt.data\n",
       "            );\n",
       "            fig.updated_canvas_event();\n",
       "            fig.waiting = false;\n",
       "            return;\n",
       "        } else if (\n",
       "            typeof evt.data === 'string' &&\n",
       "            evt.data.slice(0, 21) === 'data:image/png;base64'\n",
       "        ) {\n",
       "            fig.imageObj.src = evt.data;\n",
       "            fig.updated_canvas_event();\n",
       "            fig.waiting = false;\n",
       "            return;\n",
       "        }\n",
       "\n",
       "        var msg = JSON.parse(evt.data);\n",
       "        var msg_type = msg['type'];\n",
       "\n",
       "        // Call the  \"handle_{type}\" callback, which takes\n",
       "        // the figure and JSON message as its only arguments.\n",
       "        try {\n",
       "            var callback = fig['handle_' + msg_type];\n",
       "        } catch (e) {\n",
       "            console.log(\n",
       "                \"No handler for the '\" + msg_type + \"' message type: \",\n",
       "                msg\n",
       "            );\n",
       "            return;\n",
       "        }\n",
       "\n",
       "        if (callback) {\n",
       "            try {\n",
       "                // console.log(\"Handling '\" + msg_type + \"' message: \", msg);\n",
       "                callback(fig, msg);\n",
       "            } catch (e) {\n",
       "                console.log(\n",
       "                    \"Exception inside the 'handler_\" + msg_type + \"' callback:\",\n",
       "                    e,\n",
       "                    e.stack,\n",
       "                    msg\n",
       "                );\n",
       "            }\n",
       "        }\n",
       "    };\n",
       "};\n",
       "\n",
       "// from http://stackoverflow.com/questions/1114465/getting-mouse-location-in-canvas\n",
       "mpl.findpos = function (e) {\n",
       "    //this section is from http://www.quirksmode.org/js/events_properties.html\n",
       "    var targ;\n",
       "    if (!e) {\n",
       "        e = window.event;\n",
       "    }\n",
       "    if (e.target) {\n",
       "        targ = e.target;\n",
       "    } else if (e.srcElement) {\n",
       "        targ = e.srcElement;\n",
       "    }\n",
       "    if (targ.nodeType === 3) {\n",
       "        // defeat Safari bug\n",
       "        targ = targ.parentNode;\n",
       "    }\n",
       "\n",
       "    // pageX,Y are the mouse positions relative to the document\n",
       "    var boundingRect = targ.getBoundingClientRect();\n",
       "    var x = e.pageX - (boundingRect.left + document.body.scrollLeft);\n",
       "    var y = e.pageY - (boundingRect.top + document.body.scrollTop);\n",
       "\n",
       "    return { x: x, y: y };\n",
       "};\n",
       "\n",
       "/*\n",
       " * return a copy of an object with only non-object keys\n",
       " * we need this to avoid circular references\n",
       " * http://stackoverflow.com/a/24161582/3208463\n",
       " */\n",
       "function simpleKeys(original) {\n",
       "    return Object.keys(original).reduce(function (obj, key) {\n",
       "        if (typeof original[key] !== 'object') {\n",
       "            obj[key] = original[key];\n",
       "        }\n",
       "        return obj;\n",
       "    }, {});\n",
       "}\n",
       "\n",
       "mpl.figure.prototype.mouse_event = function (event, name) {\n",
       "    var canvas_pos = mpl.findpos(event);\n",
       "\n",
       "    if (name === 'button_press') {\n",
       "        this.canvas.focus();\n",
       "        this.canvas_div.focus();\n",
       "    }\n",
       "\n",
       "    var x = canvas_pos.x * mpl.ratio;\n",
       "    var y = canvas_pos.y * mpl.ratio;\n",
       "\n",
       "    this.send_message(name, {\n",
       "        x: x,\n",
       "        y: y,\n",
       "        button: event.button,\n",
       "        step: event.step,\n",
       "        guiEvent: simpleKeys(event),\n",
       "    });\n",
       "\n",
       "    /* This prevents the web browser from automatically changing to\n",
       "     * the text insertion cursor when the button is pressed.  We want\n",
       "     * to control all of the cursor setting manually through the\n",
       "     * 'cursor' event from matplotlib */\n",
       "    event.preventDefault();\n",
       "    return false;\n",
       "};\n",
       "\n",
       "mpl.figure.prototype._key_event_extra = function (_event, _name) {\n",
       "    // Handle any extra behaviour associated with a key event\n",
       "};\n",
       "\n",
       "mpl.figure.prototype.key_event = function (event, name) {\n",
       "    // Prevent repeat events\n",
       "    if (name === 'key_press') {\n",
       "        if (event.which === this._key) {\n",
       "            return;\n",
       "        } else {\n",
       "            this._key = event.which;\n",
       "        }\n",
       "    }\n",
       "    if (name === 'key_release') {\n",
       "        this._key = null;\n",
       "    }\n",
       "\n",
       "    var value = '';\n",
       "    if (event.ctrlKey && event.which !== 17) {\n",
       "        value += 'ctrl+';\n",
       "    }\n",
       "    if (event.altKey && event.which !== 18) {\n",
       "        value += 'alt+';\n",
       "    }\n",
       "    if (event.shiftKey && event.which !== 16) {\n",
       "        value += 'shift+';\n",
       "    }\n",
       "\n",
       "    value += 'k';\n",
       "    value += event.which.toString();\n",
       "\n",
       "    this._key_event_extra(event, name);\n",
       "\n",
       "    this.send_message(name, { key: value, guiEvent: simpleKeys(event) });\n",
       "    return false;\n",
       "};\n",
       "\n",
       "mpl.figure.prototype.toolbar_button_onclick = function (name) {\n",
       "    if (name === 'download') {\n",
       "        this.handle_save(this, null);\n",
       "    } else {\n",
       "        this.send_message('toolbar_button', { name: name });\n",
       "    }\n",
       "};\n",
       "\n",
       "mpl.figure.prototype.toolbar_button_onmouseover = function (tooltip) {\n",
       "    this.message.textContent = tooltip;\n",
       "};\n",
       "mpl.toolbar_items = [[\"Home\", \"Reset original view\", \"fa fa-home icon-home\", \"home\"], [\"Back\", \"Back to previous view\", \"fa fa-arrow-left icon-arrow-left\", \"back\"], [\"Forward\", \"Forward to next view\", \"fa fa-arrow-right icon-arrow-right\", \"forward\"], [\"\", \"\", \"\", \"\"], [\"Pan\", \"Left button pans, Right button zooms\\nx/y fixes axis, CTRL fixes aspect\", \"fa fa-arrows icon-move\", \"pan\"], [\"Zoom\", \"Zoom to rectangle\\nx/y fixes axis, CTRL fixes aspect\", \"fa fa-square-o icon-check-empty\", \"zoom\"], [\"\", \"\", \"\", \"\"], [\"Download\", \"Download plot\", \"fa fa-floppy-o icon-save\", \"download\"]];\n",
       "\n",
       "mpl.extensions = [\"eps\", \"jpeg\", \"pdf\", \"png\", \"ps\", \"raw\", \"svg\", \"tif\"];\n",
       "\n",
       "mpl.default_extension = \"png\";/* global mpl */\n",
       "\n",
       "var comm_websocket_adapter = function (comm) {\n",
       "    // Create a \"websocket\"-like object which calls the given IPython comm\n",
       "    // object with the appropriate methods. Currently this is a non binary\n",
       "    // socket, so there is still some room for performance tuning.\n",
       "    var ws = {};\n",
       "\n",
       "    ws.close = function () {\n",
       "        comm.close();\n",
       "    };\n",
       "    ws.send = function (m) {\n",
       "        //console.log('sending', m);\n",
       "        comm.send(m);\n",
       "    };\n",
       "    // Register the callback with on_msg.\n",
       "    comm.on_msg(function (msg) {\n",
       "        //console.log('receiving', msg['content']['data'], msg);\n",
       "        // Pass the mpl event to the overridden (by mpl) onmessage function.\n",
       "        ws.onmessage(msg['content']['data']);\n",
       "    });\n",
       "    return ws;\n",
       "};\n",
       "\n",
       "mpl.mpl_figure_comm = function (comm, msg) {\n",
       "    // This is the function which gets called when the mpl process\n",
       "    // starts-up an IPython Comm through the \"matplotlib\" channel.\n",
       "\n",
       "    var id = msg.content.data.id;\n",
       "    // Get hold of the div created by the display call when the Comm\n",
       "    // socket was opened in Python.\n",
       "    var element = document.getElementById(id);\n",
       "    var ws_proxy = comm_websocket_adapter(comm);\n",
       "\n",
       "    function ondownload(figure, _format) {\n",
       "        window.open(figure.canvas.toDataURL());\n",
       "    }\n",
       "\n",
       "    var fig = new mpl.figure(id, ws_proxy, ondownload, element);\n",
       "\n",
       "    // Call onopen now - mpl needs it, as it is assuming we've passed it a real\n",
       "    // web socket which is closed, not our websocket->open comm proxy.\n",
       "    ws_proxy.onopen();\n",
       "\n",
       "    fig.parent_element = element;\n",
       "    fig.cell_info = mpl.find_output_cell(\"<div id='\" + id + \"'></div>\");\n",
       "    if (!fig.cell_info) {\n",
       "        console.error('Failed to find cell for figure', id, fig);\n",
       "        return;\n",
       "    }\n",
       "};\n",
       "\n",
       "mpl.figure.prototype.handle_close = function (fig, msg) {\n",
       "    var width = fig.canvas.width / mpl.ratio;\n",
       "    fig.root.removeEventListener('remove', this._remove_fig_handler);\n",
       "\n",
       "    // Update the output cell to use the data from the current canvas.\n",
       "    fig.push_to_output();\n",
       "    var dataURL = fig.canvas.toDataURL();\n",
       "    // Re-enable the keyboard manager in IPython - without this line, in FF,\n",
       "    // the notebook keyboard shortcuts fail.\n",
       "    IPython.keyboard_manager.enable();\n",
       "    fig.parent_element.innerHTML =\n",
       "        '<img src=\"' + dataURL + '\" width=\"' + width + '\">';\n",
       "    fig.close_ws(fig, msg);\n",
       "};\n",
       "\n",
       "mpl.figure.prototype.close_ws = function (fig, msg) {\n",
       "    fig.send_message('closing', msg);\n",
       "    // fig.ws.close()\n",
       "};\n",
       "\n",
       "mpl.figure.prototype.push_to_output = function (_remove_interactive) {\n",
       "    // Turn the data on the canvas into data in the output cell.\n",
       "    var width = this.canvas.width / mpl.ratio;\n",
       "    var dataURL = this.canvas.toDataURL();\n",
       "    this.cell_info[1]['text/html'] =\n",
       "        '<img src=\"' + dataURL + '\" width=\"' + width + '\">';\n",
       "};\n",
       "\n",
       "mpl.figure.prototype.updated_canvas_event = function () {\n",
       "    // Tell IPython that the notebook contents must change.\n",
       "    IPython.notebook.set_dirty(true);\n",
       "    this.send_message('ack', {});\n",
       "    var fig = this;\n",
       "    // Wait a second, then push the new image to the DOM so\n",
       "    // that it is saved nicely (might be nice to debounce this).\n",
       "    setTimeout(function () {\n",
       "        fig.push_to_output();\n",
       "    }, 1000);\n",
       "};\n",
       "\n",
       "mpl.figure.prototype._init_toolbar = function () {\n",
       "    var fig = this;\n",
       "\n",
       "    var toolbar = document.createElement('div');\n",
       "    toolbar.classList = 'btn-toolbar';\n",
       "    this.root.appendChild(toolbar);\n",
       "\n",
       "    function on_click_closure(name) {\n",
       "        return function (_event) {\n",
       "            return fig.toolbar_button_onclick(name);\n",
       "        };\n",
       "    }\n",
       "\n",
       "    function on_mouseover_closure(tooltip) {\n",
       "        return function (event) {\n",
       "            if (!event.currentTarget.disabled) {\n",
       "                return fig.toolbar_button_onmouseover(tooltip);\n",
       "            }\n",
       "        };\n",
       "    }\n",
       "\n",
       "    fig.buttons = {};\n",
       "    var buttonGroup = document.createElement('div');\n",
       "    buttonGroup.classList = 'btn-group';\n",
       "    var button;\n",
       "    for (var toolbar_ind in mpl.toolbar_items) {\n",
       "        var name = mpl.toolbar_items[toolbar_ind][0];\n",
       "        var tooltip = mpl.toolbar_items[toolbar_ind][1];\n",
       "        var image = mpl.toolbar_items[toolbar_ind][2];\n",
       "        var method_name = mpl.toolbar_items[toolbar_ind][3];\n",
       "\n",
       "        if (!name) {\n",
       "            /* Instead of a spacer, we start a new button group. */\n",
       "            if (buttonGroup.hasChildNodes()) {\n",
       "                toolbar.appendChild(buttonGroup);\n",
       "            }\n",
       "            buttonGroup = document.createElement('div');\n",
       "            buttonGroup.classList = 'btn-group';\n",
       "            continue;\n",
       "        }\n",
       "\n",
       "        button = fig.buttons[name] = document.createElement('button');\n",
       "        button.classList = 'btn btn-default';\n",
       "        button.href = '#';\n",
       "        button.title = name;\n",
       "        button.innerHTML = '<i class=\"fa ' + image + ' fa-lg\"></i>';\n",
       "        button.addEventListener('click', on_click_closure(method_name));\n",
       "        button.addEventListener('mouseover', on_mouseover_closure(tooltip));\n",
       "        buttonGroup.appendChild(button);\n",
       "    }\n",
       "\n",
       "    if (buttonGroup.hasChildNodes()) {\n",
       "        toolbar.appendChild(buttonGroup);\n",
       "    }\n",
       "\n",
       "    // Add the status bar.\n",
       "    var status_bar = document.createElement('span');\n",
       "    status_bar.classList = 'mpl-message pull-right';\n",
       "    toolbar.appendChild(status_bar);\n",
       "    this.message = status_bar;\n",
       "\n",
       "    // Add the close button to the window.\n",
       "    var buttongrp = document.createElement('div');\n",
       "    buttongrp.classList = 'btn-group inline pull-right';\n",
       "    button = document.createElement('button');\n",
       "    button.classList = 'btn btn-mini btn-primary';\n",
       "    button.href = '#';\n",
       "    button.title = 'Stop Interaction';\n",
       "    button.innerHTML = '<i class=\"fa fa-power-off icon-remove icon-large\"></i>';\n",
       "    button.addEventListener('click', function (_evt) {\n",
       "        fig.handle_close(fig, {});\n",
       "    });\n",
       "    button.addEventListener(\n",
       "        'mouseover',\n",
       "        on_mouseover_closure('Stop Interaction')\n",
       "    );\n",
       "    buttongrp.appendChild(button);\n",
       "    var titlebar = this.root.querySelector('.ui-dialog-titlebar');\n",
       "    titlebar.insertBefore(buttongrp, titlebar.firstChild);\n",
       "};\n",
       "\n",
       "mpl.figure.prototype._remove_fig_handler = function () {\n",
       "    this.close_ws(this, {});\n",
       "};\n",
       "\n",
       "mpl.figure.prototype._root_extra_style = function (el) {\n",
       "    el.style.boxSizing = 'content-box'; // override notebook setting of border-box.\n",
       "    el.addEventListener('remove', this._remove_fig_handler);\n",
       "};\n",
       "\n",
       "mpl.figure.prototype._canvas_extra_style = function (el) {\n",
       "    // this is important to make the div 'focusable\n",
       "    el.setAttribute('tabindex', 0);\n",
       "    // reach out to IPython and tell the keyboard manager to turn it's self\n",
       "    // off when our div gets focus\n",
       "\n",
       "    // location in version 3\n",
       "    if (IPython.notebook.keyboard_manager) {\n",
       "        IPython.notebook.keyboard_manager.register_events(el);\n",
       "    } else {\n",
       "        // location in version 2\n",
       "        IPython.keyboard_manager.register_events(el);\n",
       "    }\n",
       "};\n",
       "\n",
       "mpl.figure.prototype._key_event_extra = function (event, _name) {\n",
       "    var manager = IPython.notebook.keyboard_manager;\n",
       "    if (!manager) {\n",
       "        manager = IPython.keyboard_manager;\n",
       "    }\n",
       "\n",
       "    // Check for shift+enter\n",
       "    if (event.shiftKey && event.which === 13) {\n",
       "        this.canvas_div.blur();\n",
       "        // select the cell after this one\n",
       "        var index = IPython.notebook.find_cell_index(this.cell_info[0]);\n",
       "        IPython.notebook.select(index + 1);\n",
       "    }\n",
       "};\n",
       "\n",
       "mpl.figure.prototype.handle_save = function (fig, _msg) {\n",
       "    fig.ondownload(fig, null);\n",
       "};\n",
       "\n",
       "mpl.find_output_cell = function (html_output) {\n",
       "    // Return the cell and output element which can be found *uniquely* in the notebook.\n",
       "    // Note - this is a bit hacky, but it is done because the \"notebook_saving.Notebook\"\n",
       "    // IPython event is triggered only after the cells have been serialised, which for\n",
       "    // our purposes (turning an active figure into a static one), is too late.\n",
       "    var cells = IPython.notebook.get_cells();\n",
       "    var ncells = cells.length;\n",
       "    for (var i = 0; i < ncells; i++) {\n",
       "        var cell = cells[i];\n",
       "        if (cell.cell_type === 'code') {\n",
       "            for (var j = 0; j < cell.output_area.outputs.length; j++) {\n",
       "                var data = cell.output_area.outputs[j];\n",
       "                if (data.data) {\n",
       "                    // IPython >= 3 moved mimebundle to data attribute of output\n",
       "                    data = data.data;\n",
       "                }\n",
       "                if (data['text/html'] === html_output) {\n",
       "                    return [cell, data, j];\n",
       "                }\n",
       "            }\n",
       "        }\n",
       "    }\n",
       "};\n",
       "\n",
       "// Register the function which deals with the matplotlib target/channel.\n",
       "// The kernel may be null if the page has been refreshed.\n",
       "if (IPython.notebook.kernel !== null) {\n",
       "    IPython.notebook.kernel.comm_manager.register_target(\n",
       "        'matplotlib',\n",
       "        mpl.mpl_figure_comm\n",
       "    );\n",
       "}\n"
      ],
      "text/plain": [
       "<IPython.core.display.Javascript object>"
      ]
     },
     "metadata": {},
     "output_type": "display_data"
    },
    {
     "data": {
      "text/html": [
       "<img src=\"data:image/png;base64,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\" width=\"640\">"
      ],
      "text/plain": [
       "<IPython.core.display.HTML object>"
      ]
     },
     "metadata": {},
     "output_type": "display_data"
    }
   ],
   "source": [
    "puma.plot(puma.qn);"
   ]
  },
  {
   "cell_type": "markdown",
   "metadata": {},
   "source": [
    "For an arbitrary set of joint angles"
   ]
  },
  {
   "cell_type": "code",
   "execution_count": null,
   "metadata": {},
   "outputs": [],
   "source": [
    "q = [0.1, 0.2, 0.3, 0.4, 0.5, 0.6]"
   ]
  },
  {
   "cell_type": "markdown",
   "metadata": {},
   "source": [
    "we can compute the end-effector pose using forward kinematics, taking into account the base and tool transforms"
   ]
  },
  {
   "cell_type": "code",
   "execution_count": null,
   "metadata": {},
   "outputs": [],
   "source": [
    "T = puma.fkine(q)\n",
    "T"
   ]
  },
  {
   "cell_type": "markdown",
   "metadata": {},
   "source": [
    "the result is an SE(3) matrix, an instance of an `SE3` object.  It is shown with the rotational part in red, the translational part in blue, and the constant part in grey.\n",
    "\n",
    "To find the inverse kinematics corresponding to this end-effector pose we solve the inverse kinematics numerically"
   ]
  },
  {
   "cell_type": "code",
   "execution_count": null,
   "metadata": {},
   "outputs": [],
   "source": [
    "q, *_ = puma.ikine(T)\n",
    "q"
   ]
  },
  {
   "cell_type": "markdown",
   "metadata": {},
   "source": [
    "_Note: that `ikine` returns additional status information which we are ignoring here_\n",
    "\n",
    "The manipulability at this particular configuration is"
   ]
  },
  {
   "cell_type": "code",
   "execution_count": null,
   "metadata": {},
   "outputs": [],
   "source": [
    "puma.maniplty(q)"
   ]
  },
  {
   "cell_type": "markdown",
   "metadata": {},
   "source": [
    "and the Jacobian, in the world frame (indicated by the `0` suffix) is"
   ]
  },
  {
   "cell_type": "code",
   "execution_count": null,
   "metadata": {
    "scrolled": false
   },
   "outputs": [],
   "source": [
    "puma.plot(puma.qn, vellipse=True);"
   ]
  },
  {
   "cell_type": "code",
   "execution_count": null,
   "metadata": {},
   "outputs": [],
   "source": [
    "puma.jacob0(q)"
   ]
  },
  {
   "cell_type": "markdown",
   "metadata": {},
   "source": [
    "the Jacobian in the end-effector frame is given by `jacobe`."
   ]
  },
  {
   "cell_type": "markdown",
   "metadata": {},
   "source": [
    "## More models\n",
    "A list of all models currently defined in the Toolbox is given by"
   ]
  },
  {
   "cell_type": "code",
   "execution_count": null,
   "metadata": {},
   "outputs": [],
   "source": [
    "rtb.models.list()"
   ]
  },
  {
   "cell_type": "markdown",
   "metadata": {},
   "source": [
    "which highlights the three categories of robot models supported by the toolbox:\n",
    "\n",
    "1. DH - expressed using standard or modified Denavit-Hartenberg parameters, and may include dynamic parameters, meshs and collision objects\n",
    "2. ETS - expressed as a string of elementary transforms, does not support dynamic parameters\n",
    "3. URDF - based on a URDF file with some additional meta-data, and may include dynamic parameters, meshs and collision objects"
   ]
  },
  {
   "cell_type": "markdown",
   "metadata": {},
   "source": [
    "### Elementary transform sequence (ETS) models\n",
    "We can express the Puma 560 simply and concisely as a string of elementary transforms.  First we import the class and then define the key dimensions/offsets of the robot"
   ]
  },
  {
   "cell_type": "code",
   "execution_count": null,
   "metadata": {},
   "outputs": [],
   "source": [
    "import roboticstoolbox.robot.ET as ET\n",
    "\n",
    "l1 = 0.672\n",
    "l2 = 0.2337\n",
    "l3 = 0.4318\n",
    "l5 = 0.4318\n",
    "l4 = -0.0837\n",
    "l6 = 0.0203"
   ]
  },
  {
   "cell_type": "markdown",
   "metadata": {},
   "source": [
    "Consider the robot in a configuration where it is stretched out vertically, this will be our zero-joint-angle configuration.  Then starting at the base we define a series of rigid-body motions all the way to the tip.  The motion can be:\n",
    "\n",
    "- constant, indicated by an argument to the method, or\n",
    "- a variable, due to a joint, and this is indicated by no argument to the method"
   ]
  },
  {
   "cell_type": "code",
   "execution_count": null,
   "metadata": {},
   "outputs": [],
   "source": [
    "e = ET.tz(l1) * ET.rz() * ET.ty(l2) * ET.ry() * ET.tz(l3) * ET.tx(l6) * ET.ty(l4) * ET.ry() \\\n",
    "    * ET.tz(l5) * ET.rz() * ET.ry() * ET.rz()"
   ]
  },
  {
   "cell_type": "markdown",
   "metadata": {},
   "source": [
    "The overloaded `*` indicates composition of the rigid-body motions.  The total number of elementary transforms is"
   ]
  },
  {
   "cell_type": "code",
   "execution_count": null,
   "metadata": {},
   "outputs": [],
   "source": [
    "len(e)"
   ]
  },
  {
   "cell_type": "markdown",
   "metadata": {},
   "source": [
    "and the elements which are joints are"
   ]
  },
  {
   "cell_type": "code",
   "execution_count": null,
   "metadata": {},
   "outputs": [],
   "source": [
    "e.joints()"
   ]
  },
  {
   "cell_type": "markdown",
   "metadata": {},
   "source": [
    "and we can pretty print the transform sequence by"
   ]
  },
  {
   "cell_type": "code",
   "execution_count": null,
   "metadata": {},
   "outputs": [],
   "source": [
    "print(e)"
   ]
  },
  {
   "cell_type": "markdown",
   "metadata": {},
   "source": [
    "We can also evaluate the transform sequence, by subsituting in values for the joint angles.  They are taken from consecutive elemements of the joint-angle vector provide to the `eval` method"
   ]
  },
  {
   "cell_type": "code",
   "execution_count": null,
   "metadata": {},
   "outputs": [],
   "source": [
    "e.eval([0, 0, 0, 0, 0, 0])"
   ]
  },
  {
   "cell_type": "code",
   "execution_count": null,
   "metadata": {},
   "outputs": [],
   "source": [
    "puma.fkine(puma.qr)"
   ]
  },
  {
   "cell_type": "markdown",
   "metadata": {},
   "source": [
    "and this is the forward kinematics of a robot described by this elementary transform sequence."
   ]
  },
  {
   "cell_type": "markdown",
   "metadata": {},
   "source": [
    "## Robot dynamics\n",
    "We can define a different joint configuration `q`, as well as the joint velocity `qd` and acceleration `qdd`"
   ]
  },
  {
   "cell_type": "code",
   "execution_count": null,
   "metadata": {},
   "outputs": [],
   "source": [
    "q = puma.qn\n",
    "qd = np.zeros((6,))\n",
    "qdd = np.zeros((6,))"
   ]
  },
  {
   "cell_type": "markdown",
   "metadata": {},
   "source": [
    "and then compute the inverse dynamics using the recursive Newton-Euler algorithm"
   ]
  },
  {
   "cell_type": "code",
   "execution_count": null,
   "metadata": {},
   "outputs": [],
   "source": [
    "puma.rne(q, qd, qdd)"
   ]
  },
  {
   "cell_type": "markdown",
   "metadata": {},
   "source": [
    "which is written in C for performance. It's actually the same 20 year C-code used in the MATLAB version of the Toolbox!\n",
    "\n",
    "We can use this to compute the manipulator inertia matrix"
   ]
  },
  {
   "cell_type": "code",
   "execution_count": null,
   "metadata": {},
   "outputs": [],
   "source": [
    "puma.inertia(q)"
   ]
  },
  {
   "cell_type": "markdown",
   "metadata": {},
   "source": [
    "the velocity terms"
   ]
  },
  {
   "cell_type": "code",
   "execution_count": null,
   "metadata": {},
   "outputs": [],
   "source": [
    "puma.coriolis(q, [0.1, 0.2, 0.3, 0.1, 0.2, 0.3])"
   ]
  },
  {
   "cell_type": "markdown",
   "metadata": {},
   "source": [
    "where the second argument is the joint velocuty.\n",
    "\n",
    "Finally, the gravity torque is"
   ]
  },
  {
   "cell_type": "code",
   "execution_count": null,
   "metadata": {},
   "outputs": [],
   "source": [
    "puma.gravload(q)"
   ]
  },
  {
   "cell_type": "markdown",
   "metadata": {},
   "source": [
    "If we set the joint torques to zero, ie. turn the motors off"
   ]
  },
  {
   "cell_type": "code",
   "execution_count": null,
   "metadata": {},
   "outputs": [],
   "source": [
    "tau = np.zeros((6,))"
   ]
  },
  {
   "cell_type": "markdown",
   "metadata": {},
   "source": [
    "then the resulting joint angle acceleration will be"
   ]
  },
  {
   "cell_type": "code",
   "execution_count": null,
   "metadata": {},
   "outputs": [],
   "source": [
    "puma.accel(q, qd, tau)"
   ]
  },
  {
   "cell_type": "markdown",
   "metadata": {},
   "source": [
    "which we can integrate over time to obtain a joint angle trajectory"
   ]
  },
  {
   "cell_type": "code",
   "execution_count": null,
   "metadata": {},
   "outputs": [],
   "source": [
    "tg = puma.nofriction().fdyn(5, puma.qn, dt=0.05)\n",
    "rtb.tools.trajectory.qplot(tg.q, tg.t, block=True)"
   ]
  },
  {
   "cell_type": "markdown",
   "metadata": {},
   "source": [
    "Note: _Coulomb friction is a harsh non-linearity and it causes the numerical integrator to take very small times steps, so the result will take many minutes to compute. To speed things up, at the expense of some modeling fidelity, we set the Coulomb friction to zero, but retain the viscous friction. The `nofriction()` method returns a clone of the robot with its friction parameters modified._"
   ]
  },
  {
   "cell_type": "markdown",
   "metadata": {},
   "source": [
    "# Twists and screws\n",
    "\n",
    "## Starting simply\n",
    "The Toolbox provides functions to convert to and from vectors to skew-symmetric matrices (elements of so(2), so(3)) and augmented skew-symmetric matrices (elements of se(2), se(3))"
   ]
  },
  {
   "cell_type": "code",
   "execution_count": null,
   "metadata": {},
   "outputs": [],
   "source": [
    "S = skew([1, 2, 3])\n",
    "S"
   ]
  },
  {
   "cell_type": "code",
   "execution_count": null,
   "metadata": {},
   "outputs": [],
   "source": [
    "vex(S)"
   ]
  },
  {
   "cell_type": "code",
   "execution_count": null,
   "metadata": {},
   "outputs": [],
   "source": [
    "S = skewa([1, 2, 3, 4, 5, 6])\n",
    "S"
   ]
  },
  {
   "cell_type": "code",
   "execution_count": null,
   "metadata": {},
   "outputs": [],
   "source": [
    "vexa(S)"
   ]
  },
  {
   "cell_type": "markdown",
   "metadata": {},
   "source": [
    "## 3D twists\n",
    "We can create a revolute twist by specifying the direction of its line of action and a point"
   ]
  },
  {
   "cell_type": "code",
   "execution_count": null,
   "metadata": {},
   "outputs": [],
   "source": [
    "Twist3.R([1, 0, 0], [0, 0, 0])"
   ]
  },
  {
   "cell_type": "markdown",
   "metadata": {},
   "source": [
    " which is a 6-vector encapsulated in an instance of a `Twist3` object.  A prismatic twist has just the direction of its line of action"
   ]
  },
  {
   "cell_type": "code",
   "execution_count": null,
   "metadata": {},
   "outputs": [],
   "source": [
    "Twist3.P([0, 1, 0])"
   ]
  },
  {
   "cell_type": "markdown",
   "metadata": {},
   "source": [
    "We can convert an SE(3) matrix, encapsulated in an instance of an `SE3` object to a 3D twist"
   ]
  },
  {
   "cell_type": "code",
   "execution_count": null,
   "metadata": {},
   "outputs": [],
   "source": [
    "T = SE3.Rand()\n",
    "tw = Twist3(T)\n",
    "tw"
   ]
  },
  {
   "cell_type": "markdown",
   "metadata": {},
   "source": [
    "Twists have a number of properties and methods. The moment is a 3-vector"
   ]
  },
  {
   "cell_type": "code",
   "execution_count": null,
   "metadata": {},
   "outputs": [],
   "source": [
    "tw.v"
   ]
  },
  {
   "cell_type": "markdown",
   "metadata": {},
   "source": [
    "as is the direction part"
   ]
  },
  {
   "cell_type": "code",
   "execution_count": null,
   "metadata": {},
   "outputs": [],
   "source": [
    "tw.w"
   ]
  },
  {
   "cell_type": "markdown",
   "metadata": {},
   "source": [
    "A twist also has a pitch"
   ]
  },
  {
   "cell_type": "code",
   "execution_count": null,
   "metadata": {},
   "outputs": [],
   "source": [
    "tw.pitch()"
   ]
  },
  {
   "cell_type": "markdown",
   "metadata": {},
   "source": [
    "and a pole"
   ]
  },
  {
   "cell_type": "code",
   "execution_count": null,
   "metadata": {},
   "outputs": [],
   "source": [
    "tw.pole()"
   ]
  },
  {
   "cell_type": "markdown",
   "metadata": {},
   "source": [
    "The line of action of the twist is a line in 3D space which can be represented by a Toolbox Plucker object"
   ]
  },
  {
   "cell_type": "code",
   "execution_count": null,
   "metadata": {},
   "outputs": [],
   "source": [
    "tw.line()"
   ]
  },
  {
   "cell_type": "markdown",
   "metadata": {},
   "source": [
    "which we could plot, by first defining a plot volume"
   ]
  },
  {
   "cell_type": "code",
   "execution_count": null,
   "metadata": {},
   "outputs": [],
   "source": [
    "fig, ax = plt.subplots(subplot_kw={\"projection\": \"3d\", \"proj_type\": \"ortho\"})\n",
    "ax.set_xlim3d(-10, 10)\n",
    "ax.set_ylim3d(-10, 10)\n",
    "ax.set_zlim3d(-10, 10)\n",
    "\n",
    "tw.line().plot(color='red', linewidth=2)\n",
    "\n",
    "plt.show()"
   ]
  },
  {
   "cell_type": "markdown",
   "metadata": {},
   "source": [
    "## Exponentiation of twists\n",
    "Importantly, we can exponeniate the twist, ie. compute $T = e^{[S]\\theta}$, where $\\theta$ is the argument"
   ]
  },
  {
   "cell_type": "code",
   "execution_count": null,
   "metadata": {},
   "outputs": [],
   "source": [
    "tw.exp(0)"
   ]
  },
  {
   "cell_type": "markdown",
   "metadata": {},
   "source": [
    "which is of course the identity matrix, and"
   ]
  },
  {
   "cell_type": "code",
   "execution_count": null,
   "metadata": {},
   "outputs": [],
   "source": [
    "tw.exp(1)"
   ]
  },
  {
   "cell_type": "markdown",
   "metadata": {},
   "source": [
    "All Toolbox objects can contain multiple values, so in this example, we exponentiate the twist with a sequence of values, resulting in a single `SE3` object that contains a sequence of SE(3) values."
   ]
  },
  {
   "cell_type": "code",
   "execution_count": null,
   "metadata": {},
   "outputs": [],
   "source": [
    "T = tw.exp([0, 1])\n",
    "T"
   ]
  },
  {
   "cell_type": "markdown",
   "metadata": {},
   "source": [
    "and we access them in a familiar Pythonic way"
   ]
  },
  {
   "cell_type": "code",
   "execution_count": null,
   "metadata": {},
   "outputs": [],
   "source": [
    "len(T)"
   ]
  },
  {
   "cell_type": "code",
   "execution_count": null,
   "metadata": {},
   "outputs": [],
   "source": [
    "T[1]"
   ]
  },
  {
   "cell_type": "markdown",
   "metadata": {},
   "source": [
    "## Product of exponentials"
   ]
  },
  {
   "cell_type": "markdown",
   "metadata": {},
   "source": [
    "For the robot model we created earlier, we can extract its product of exponentials representation, a set of six twists and a transformation"
   ]
  },
  {
   "cell_type": "code",
   "execution_count": null,
   "metadata": {},
   "outputs": [],
   "source": [
    "S, T0 = puma.twists()"
   ]
  },
  {
   "cell_type": "markdown",
   "metadata": {},
   "source": [
    "where the transformation for zero-joint-angles is"
   ]
  },
  {
   "cell_type": "code",
   "execution_count": null,
   "metadata": {},
   "outputs": [],
   "source": [
    "T0"
   ]
  },
  {
   "cell_type": "markdown",
   "metadata": {},
   "source": [
    "and the twists are"
   ]
  },
  {
   "cell_type": "code",
   "execution_count": null,
   "metadata": {},
   "outputs": [],
   "source": [
    "S"
   ]
  },
  {
   "cell_type": "markdown",
   "metadata": {},
   "source": [
    "For a nominal joint-angle configuration"
   ]
  },
  {
   "cell_type": "code",
   "execution_count": null,
   "metadata": {},
   "outputs": [],
   "source": [
    "puma.qn"
   ]
  },
  {
   "cell_type": "markdown",
   "metadata": {},
   "source": [
    "we can exponentiate the twists"
   ]
  },
  {
   "cell_type": "code",
   "execution_count": null,
   "metadata": {},
   "outputs": [],
   "source": [
    "S.exp(puma.qn)"
   ]
  },
  {
   "cell_type": "markdown",
   "metadata": {},
   "source": [
    "where the result is again an `SE3` object with multiple values, six in this case.\n",
    "\n",
    "The full expression for the forward kinematics is"
   ]
  },
  {
   "cell_type": "code",
   "execution_count": null,
   "metadata": {},
   "outputs": [],
   "source": [
    "S.exp(puma.qn).prod() * T0"
   ]
  },
  {
   "cell_type": "markdown",
   "metadata": {},
   "source": [
    "which of course is identical to the classical approach "
   ]
  },
  {
   "cell_type": "code",
   "execution_count": null,
   "metadata": {},
   "outputs": [],
   "source": [
    "puma.fkine(puma.qn)"
   ]
  },
  {
   "cell_type": "markdown",
   "metadata": {},
   "source": [
    "Extending an earlier example, the lines of actions of the twists are"
   ]
  },
  {
   "cell_type": "code",
   "execution_count": null,
   "metadata": {},
   "outputs": [],
   "source": [
    "lines = S.line()\n",
    "lines"
   ]
  },
  {
   "cell_type": "markdown",
   "metadata": {},
   "source": [
    "Which we can overlay on a plot of the robot in its zero-angle configuration"
   ]
  },
  {
   "cell_type": "code",
   "execution_count": null,
   "metadata": {
    "scrolled": true
   },
   "outputs": [],
   "source": [
    "fig = puma.plot(puma.qz)"
   ]
  },
  {
   "cell_type": "code",
   "execution_count": null,
   "metadata": {},
   "outputs": [],
   "source": [
    "fig = puma.plot(puma.qz, block=False)\n",
    "lines.plot(\"k--\", linewidth=1.5, bounds=np.r_[-1, 1, -1, 1, -1, 1.5])\n",
    "plt.show()"
   ]
  },
  {
   "cell_type": "code",
   "execution_count": null,
   "metadata": {},
   "outputs": [],
   "source": [
    "from spatialmath import SO3, SE2\n",
    "SO3.Ry(90, unit='deg')"
   ]
  },
  {
   "cell_type": "code",
   "execution_count": null,
   "metadata": {},
   "outputs": [],
   "source": [
    "SE2() * SO3()"
   ]
  },
  {
   "cell_type": "code",
   "execution_count": null,
   "metadata": {},
   "outputs": [],
   "source": [
    "tw.exp(0)"
   ]
  },
  {
   "cell_type": "code",
   "execution_count": null,
   "metadata": {},
   "outputs": [],
   "source": [
    "tw.exp(1)"
   ]
  },
  {
   "cell_type": "code",
   "execution_count": null,
   "metadata": {},
   "outputs": [],
   "source": [
    "tw.exp([0, 1])"
   ]
  },
  {
   "cell_type": "code",
   "execution_count": null,
   "metadata": {},
   "outputs": [],
   "source": [
    "Twist3.P([1, 0, 0])"
   ]
  },
  {
   "cell_type": "code",
   "execution_count": null,
   "metadata": {},
   "outputs": [],
   "source": [
    "Twist3.Rx(0)"
   ]
  },
  {
   "cell_type": "code",
   "execution_count": null,
   "metadata": {},
   "outputs": [],
   "source": []
  }
 ],
 "metadata": {
  "anaconda-cloud": {},
  "kernelspec": {
   "display_name": "Python 3",
   "language": "python",
   "name": "python3"
  },
  "language_info": {
   "codemirror_mode": {
    "name": "ipython",
    "version": 3
   },
   "file_extension": ".py",
   "mimetype": "text/x-python",
   "name": "python",
   "nbconvert_exporter": "python",
   "pygments_lexer": "ipython3",
   "version": "3.8.5"
  },
  "varInspector": {
   "cols": {
    "lenName": 16,
    "lenType": 16,
    "lenVar": 40
   },
   "kernels_config": {
    "python": {
     "delete_cmd_postfix": "",
     "delete_cmd_prefix": "del ",
     "library": "var_list.py",
     "varRefreshCmd": "print(var_dic_list())"
    },
    "r": {
     "delete_cmd_postfix": ") ",
     "delete_cmd_prefix": "rm(",
     "library": "var_list.r",
     "varRefreshCmd": "cat(var_dic_list()) "
    }
   },
   "position": {
    "height": "144px",
    "left": "854px",
    "right": "20px",
    "top": "99px",
    "width": "350px"
   },
   "types_to_exclude": [
    "module",
    "function",
    "builtin_function_or_method",
    "instance",
    "_Feature"
   ],
   "window_display": false
  }
 },
 "nbformat": 4,
 "nbformat_minor": 4
}
