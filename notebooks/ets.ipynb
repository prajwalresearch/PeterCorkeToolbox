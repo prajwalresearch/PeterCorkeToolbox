{
 "cells": [
  {
   "cell_type": "markdown",
   "metadata": {},
   "source": [
    "# Introduction to Elementary Transform Sequences (ETS)\n",
    "Peter Corke"
   ]
  },
  {
   "cell_type": "code",
   "execution_count": 1,
   "metadata": {},
   "outputs": [
    {
     "data": {
      "text/html": [
       "<div id=\"glowscript\" class=\"glowscript\"></div>"
      ],
      "text/plain": [
       "<IPython.core.display.HTML object>"
      ]
     },
     "metadata": {},
     "output_type": "display_data"
    },
    {
     "data": {
      "application/javascript": [
       "if (typeof Jupyter !== \"undefined\") { window.__context = { glowscript_container: $(\"#glowscript\").removeAttr(\"id\")};}else{ element.textContent = ' ';}"
      ],
      "text/plain": [
       "<IPython.core.display.Javascript object>"
      ]
     },
     "metadata": {},
     "output_type": "display_data"
    },
    {
     "name": "stderr",
     "output_type": "stream",
     "text": [
      "<frozen importlib._bootstrap>:219: FutureWarning: Passing (type, 1) or '1type' as a synonym of type is deprecated; in a future version of numpy, it will be understood as (type, (1,)) / '(1,)type'.\n"
     ]
    }
   ],
   "source": [
    "import roboticstoolbox as rtb\n",
    "import numpy as np\n",
    "from spatialmath import SE3\n",
    "from spatialmath.base import sym\n",
    "\n",
    "%matplotlib notebook"
   ]
  },
  {
   "cell_type": "markdown",
   "metadata": {},
   "source": [
    "The traditional approach to robot kinematics is to use Denavit-Hartenberg notation where each link is deescribed by a very specific sequence of simple (elementary) transformations\n",
    "\n",
    "$\\mathbf{A}_j = r_z(\\theta_j) t_z(d_j) t_x(a_j) r_x(\\alpha_j)$\n",
    "\n",
    "some of which may be missing.  The parameters $(\\theta_j, d_j, a_j, \\alpha_j)$ are the Denavit-Hartenberg parameters.  A complete robot is defined as a sequence of $\\mathbf{A}_j$, one per joint, \n",
    "\n",
    "$\\mathbf{T} = \\mathbf{T}_b \\prod_j\\mathbf{A}_j \\mathbf{T}_t$\n",
    "\n",
    "sometimes with an addition base transform at the befinning and a tool transform on the end.\n",
    "For a revolute joint $\\theta_j = q_j$ is the joint variable, whereas for a prismatic (sliding) joint $d_j = q_j$ is the joint variable.\n",
    "\n",
    "Because a rigid-link has effectively 6 degrees-of-freedom, using just 4 parameters leads to some constraints.  This all conspires to making the Denavit-Hartenberg notation cumbersome to learn, apply and determine for a new robot.\n",
    "\n",
    "If we multiply this out we see it is a sequence of transformations drawn from the set $\\{r_x, r_z, t_x, t_z\\}$.\n",
    "Let's take a step back and consider defining a robot from a sequence of transforms drawn from the complete set of all possible elementary (or canonical) transformations $\\{r_x, r_y, r_z, t_x, t_y, t_z\\}$ any of which can be a function of a constant or a joint variable.\n",
    "\n",
    "The Robotics Toolbox implements this functionality. We will start simply\n"
   ]
  },
  {
   "cell_type": "code",
   "execution_count": 2,
   "metadata": {},
   "outputs": [
    {
     "data": {
      "text/plain": [
       "Rx(45°)"
      ]
     },
     "execution_count": 2,
     "metadata": {},
     "output_type": "execute_result"
    }
   ],
   "source": [
    "from roboticstoolbox import ETS as E\n",
    "\n",
    "E.rx(45, 'deg')"
   ]
  },
  {
   "cell_type": "code",
   "execution_count": 3,
   "metadata": {},
   "outputs": [
    {
     "data": {
      "text/plain": [
       "ty(2)"
      ]
     },
     "execution_count": 3,
     "metadata": {},
     "output_type": "execute_result"
    }
   ],
   "source": [
    "E.ty(2)"
   ]
  },
  {
   "cell_type": "code",
   "execution_count": 4,
   "metadata": {},
   "outputs": [
    {
     "data": {
      "text/plain": [
       "Ry(q)"
      ]
     },
     "execution_count": 4,
     "metadata": {},
     "output_type": "execute_result"
    }
   ],
   "source": [
    "E.ry()"
   ]
  },
  {
   "cell_type": "markdown",
   "metadata": {},
   "source": [
    "Consider we want to create a simple 2 link planar robot arranged like\n",
    "\n",
    "o-------o--<>---x \n",
    "\n",
    "where 'o' is a joint, 'x' is the end effector, the first link is 1m long, and the second link can change its length - it is a prismatic joint.  The robot can be represented by just 4 elementary transforms"
   ]
  },
  {
   "cell_type": "code",
   "execution_count": 5,
   "metadata": {},
   "outputs": [
    {
     "data": {
      "text/plain": [
       "Rz(q0) * tx(1) * Rz(q1) * tx(q2)"
      ]
     },
     "execution_count": 5,
     "metadata": {},
     "output_type": "execute_result"
    }
   ],
   "source": [
    "e = E.rz() * E.tx(1) * E.rz() * E.tx()\n",
    "e"
   ]
  },
  {
   "cell_type": "markdown",
   "metadata": {},
   "source": [
    "`e` is an ETS object"
   ]
  },
  {
   "cell_type": "code",
   "execution_count": 6,
   "metadata": {},
   "outputs": [
    {
     "data": {
      "text/plain": [
       "roboticstoolbox.robot.ETS.ETS"
      ]
     },
     "execution_count": 6,
     "metadata": {},
     "output_type": "execute_result"
    }
   ],
   "source": [
    "type(e)"
   ]
  },
  {
   "cell_type": "markdown",
   "metadata": {},
   "source": [
    "which has a number of methods including "
   ]
  },
  {
   "cell_type": "code",
   "execution_count": 7,
   "metadata": {},
   "outputs": [
    {
     "data": {
      "text/plain": [
       "4"
      ]
     },
     "execution_count": 7,
     "metadata": {},
     "output_type": "execute_result"
    }
   ],
   "source": [
    "len(e)"
   ]
  },
  {
   "cell_type": "markdown",
   "metadata": {},
   "source": [
    "indicating it has four transforms"
   ]
  },
  {
   "cell_type": "code",
   "execution_count": 8,
   "metadata": {},
   "outputs": [
    {
     "data": {
      "text/plain": [
       "3"
      ]
     },
     "execution_count": 8,
     "metadata": {},
     "output_type": "execute_result"
    }
   ],
   "source": [
    "e.n"
   ]
  },
  {
   "cell_type": "markdown",
   "metadata": {},
   "source": [
    "indicating it has three joint variables, and they occur at the indices given by"
   ]
  },
  {
   "cell_type": "code",
   "execution_count": 9,
   "metadata": {},
   "outputs": [
    {
     "data": {
      "text/plain": [
       "array([0, 2, 3])"
      ]
     },
     "execution_count": 9,
     "metadata": {},
     "output_type": "execute_result"
    }
   ],
   "source": [
    "e.joints()"
   ]
  },
  {
   "cell_type": "markdown",
   "metadata": {},
   "source": [
    "The ETS object acts a lot like a list, and we can slice it"
   ]
  },
  {
   "cell_type": "code",
   "execution_count": 10,
   "metadata": {},
   "outputs": [
    {
     "data": {
      "text/plain": [
       "tx(1)"
      ]
     },
     "execution_count": 10,
     "metadata": {},
     "output_type": "execute_result"
    }
   ],
   "source": [
    "e[1]"
   ]
  },
  {
   "cell_type": "code",
   "execution_count": 11,
   "metadata": {},
   "outputs": [
    {
     "data": {
      "text/plain": [
       "Rz(q0) * tx(q1)"
      ]
     },
     "execution_count": 11,
     "metadata": {},
     "output_type": "execute_result"
    }
   ],
   "source": [
    "e[2:]"
   ]
  },
  {
   "cell_type": "markdown",
   "metadata": {},
   "source": [
    "There are also a number of predicates"
   ]
  },
  {
   "cell_type": "code",
   "execution_count": 12,
   "metadata": {},
   "outputs": [
    {
     "data": {
      "text/plain": [
       "True"
      ]
     },
     "execution_count": 12,
     "metadata": {},
     "output_type": "execute_result"
    }
   ],
   "source": [
    "e[0].isjoint"
   ]
  },
  {
   "cell_type": "code",
   "execution_count": 13,
   "metadata": {},
   "outputs": [
    {
     "data": {
      "text/plain": [
       "False"
      ]
     },
     "execution_count": 13,
     "metadata": {},
     "output_type": "execute_result"
    }
   ],
   "source": [
    "e[1].isjoint"
   ]
  },
  {
   "cell_type": "code",
   "execution_count": 14,
   "metadata": {},
   "outputs": [
    {
     "data": {
      "text/plain": [
       "False"
      ]
     },
     "execution_count": 14,
     "metadata": {},
     "output_type": "execute_result"
    }
   ],
   "source": [
    "e[1].isrevolute"
   ]
  },
  {
   "cell_type": "code",
   "execution_count": 15,
   "metadata": {},
   "outputs": [
    {
     "data": {
      "text/plain": [
       "False"
      ]
     },
     "execution_count": 15,
     "metadata": {},
     "output_type": "execute_result"
    }
   ],
   "source": [
    "e[3].isrevolute"
   ]
  },
  {
   "cell_type": "code",
   "execution_count": 16,
   "metadata": {},
   "outputs": [
    {
     "data": {
      "text/plain": [
       "True"
      ]
     },
     "execution_count": 16,
     "metadata": {},
     "output_type": "execute_result"
    }
   ],
   "source": [
    "e[3].isprismatic"
   ]
  },
  {
   "cell_type": "markdown",
   "metadata": {},
   "source": [
    "We can substitute in values"
   ]
  },
  {
   "cell_type": "code",
   "execution_count": 17,
   "metadata": {},
   "outputs": [
    {
     "data": {
      "text/plain": [
       "SE3:  \u001b[38;5;1m 1          \u001b[0m\u001b[38;5;1m 0          \u001b[0m\u001b[38;5;1m 0          \u001b[0m\u001b[38;5;4m 2          \u001b[0m  \u001b[0m\n",
       "      \u001b[38;5;1m 0          \u001b[0m\u001b[38;5;1m 1          \u001b[0m\u001b[38;5;1m 0          \u001b[0m\u001b[38;5;4m 0          \u001b[0m  \u001b[0m\n",
       "      \u001b[38;5;1m 0          \u001b[0m\u001b[38;5;1m 0          \u001b[0m\u001b[38;5;1m 1          \u001b[0m\u001b[38;5;4m 0          \u001b[0m  \u001b[0m\n",
       "      \u001b[38;5;244m 0          \u001b[0m\u001b[38;5;244m 0          \u001b[0m\u001b[38;5;244m 0          \u001b[0m\u001b[38;5;244m 1          \u001b[0m  \u001b[0m\n",
       "    "
      ]
     },
     "execution_count": 17,
     "metadata": {},
     "output_type": "execute_result"
    }
   ],
   "source": [
    "e.eval([0, 0, 1])"
   ]
  },
  {
   "cell_type": "markdown",
   "metadata": {},
   "source": [
    "and the result is an SE(3) matrix encapsulated in an `SE3` instance. As expected is a translation of 2m in the x-direction.  \n",
    "\n",
    "Let try another configuration"
   ]
  },
  {
   "cell_type": "code",
   "execution_count": 18,
   "metadata": {},
   "outputs": [
    {
     "data": {
      "text/plain": [
       "SE3:  \u001b[38;5;1m 1          \u001b[0m\u001b[38;5;1m 0          \u001b[0m\u001b[38;5;1m 0          \u001b[0m\u001b[38;5;4m 2          \u001b[0m  \u001b[0m\n",
       "      \u001b[38;5;1m 0          \u001b[0m\u001b[38;5;1m 1          \u001b[0m\u001b[38;5;1m 0          \u001b[0m\u001b[38;5;4m 1          \u001b[0m  \u001b[0m\n",
       "      \u001b[38;5;1m 0          \u001b[0m\u001b[38;5;1m 0          \u001b[0m\u001b[38;5;1m 1          \u001b[0m\u001b[38;5;4m 0          \u001b[0m  \u001b[0m\n",
       "      \u001b[38;5;244m 0          \u001b[0m\u001b[38;5;244m 0          \u001b[0m\u001b[38;5;244m 0          \u001b[0m\u001b[38;5;244m 1          \u001b[0m  \u001b[0m\n",
       "    "
      ]
     },
     "execution_count": 18,
     "metadata": {},
     "output_type": "execute_result"
    }
   ],
   "source": [
    "e.eval([90, -90, 2], 'deg')"
   ]
  },
  {
   "cell_type": "markdown",
   "metadata": {},
   "source": [
    "Note that the `'deg'` option only applies to those list elements corresponding to angles."
   ]
  },
  {
   "cell_type": "markdown",
   "metadata": {},
   "source": [
    "## Joint flip\n",
    "\n",
    "Sometimes when we are describing a system of joints and constant transforms, the joint coordinate sense needs to be reversed to meet the user's definition.  In the example above, consider that the first joint increases positively in the clockwise direction. In that case we could write"
   ]
  },
  {
   "cell_type": "code",
   "execution_count": 19,
   "metadata": {},
   "outputs": [
    {
     "data": {
      "text/plain": [
       "Rz(-q0) * tx(1) * Rz(q1) * tx(q2)"
      ]
     },
     "execution_count": 19,
     "metadata": {},
     "output_type": "execute_result"
    }
   ],
   "source": [
    "e = E.rz(flip=True) * E.tx(1) * E.rz() * E.tx()\n",
    "e"
   ]
  },
  {
   "cell_type": "markdown",
   "metadata": {},
   "source": [
    "and the flip is indicated by a negative sign `Rz(-q0)` when the ETS is displayed."
   ]
  },
  {
   "cell_type": "code",
   "execution_count": 20,
   "metadata": {},
   "outputs": [
    {
     "data": {
      "text/plain": [
       "SE3:  \u001b[38;5;1m 1          \u001b[0m\u001b[38;5;1m 0          \u001b[0m\u001b[38;5;1m 0          \u001b[0m\u001b[38;5;4m 2          \u001b[0m  \u001b[0m\n",
       "      \u001b[38;5;1m 0          \u001b[0m\u001b[38;5;1m 1          \u001b[0m\u001b[38;5;1m 0          \u001b[0m\u001b[38;5;4m 1          \u001b[0m  \u001b[0m\n",
       "      \u001b[38;5;1m 0          \u001b[0m\u001b[38;5;1m 0          \u001b[0m\u001b[38;5;1m 1          \u001b[0m\u001b[38;5;4m 0          \u001b[0m  \u001b[0m\n",
       "      \u001b[38;5;244m 0          \u001b[0m\u001b[38;5;244m 0          \u001b[0m\u001b[38;5;244m 0          \u001b[0m\u001b[38;5;244m 1          \u001b[0m  \u001b[0m\n",
       "    "
      ]
     },
     "execution_count": 20,
     "metadata": {},
     "output_type": "execute_result"
    }
   ],
   "source": [
    "e.eval([-90, -90, 2], 'deg')"
   ]
  },
  {
   "cell_type": "markdown",
   "metadata": {},
   "source": [
    "Now if we negate the passed value of q0 we see that we have compute the same answer as above.\n",
    "\n",
    "Joint flip is handled implicitly, but can be tested"
   ]
  },
  {
   "cell_type": "code",
   "execution_count": 21,
   "metadata": {},
   "outputs": [
    {
     "data": {
      "text/plain": [
       "True"
      ]
     },
     "execution_count": 21,
     "metadata": {},
     "output_type": "execute_result"
    }
   ],
   "source": [
    "e[0].isflip"
   ]
  },
  {
   "cell_type": "code",
   "execution_count": 22,
   "metadata": {},
   "outputs": [
    {
     "data": {
      "text/plain": [
       "False"
      ]
     },
     "execution_count": 22,
     "metadata": {},
     "output_type": "execute_result"
    }
   ],
   "source": [
    "e[1].isflip"
   ]
  },
  {
   "cell_type": "markdown",
   "metadata": {},
   "source": [
    "## Symbolics\n",
    "\n"
   ]
  },
  {
   "cell_type": "code",
   "execution_count": 23,
   "metadata": {},
   "outputs": [
    {
     "name": "stdout",
     "output_type": "stream",
     "text": [
      "(q_0, q_1, q_2)\n"
     ]
    }
   ],
   "source": [
    "q = sym.symbol('q_:3')\n",
    "print(q)"
   ]
  },
  {
   "cell_type": "markdown",
   "metadata": {},
   "source": [
    "Which creates a vector of three joint angle variables. The advantage of having the underscore in the name is that Jupyter considers this as LaTeX subscript notation when it pretty prints the symbols"
   ]
  },
  {
   "cell_type": "code",
   "execution_count": 24,
   "metadata": {},
   "outputs": [
    {
     "data": {
      "text/latex": [
       "$\\displaystyle q_{0}$"
      ],
      "text/plain": [
       "q_0"
      ]
     },
     "execution_count": 24,
     "metadata": {},
     "output_type": "execute_result"
    }
   ],
   "source": [
    "q[0]"
   ]
  },
  {
   "cell_type": "markdown",
   "metadata": {},
   "source": [
    "We can substitute in the symbolic values just as easily as we did the numerical values to find the resulting overall transform"
   ]
  },
  {
   "cell_type": "code",
   "execution_count": 25,
   "metadata": {},
   "outputs": [
    {
     "data": {
      "text/plain": [
       "SE3:  \u001b[38;5;1msin(q_0)*sin(q_1) + cos(q_0)*cos(q_1)\u001b[0m\u001b[38;5;1msin(q_0)*cos(q_1) - sin(q_1)*cos(q_0)\u001b[0m\u001b[38;5;1m0           \u001b[0m\u001b[38;5;4mq_2*(sin(q_0)*sin(q_1) + cos(q_0)*cos(q_1)) + cos(q_0)\u001b[0m  \u001b[0m\n",
       "      \u001b[38;5;1m-sin(q_0)*cos(q_1) + sin(q_1)*cos(q_0)\u001b[0m\u001b[38;5;1msin(q_0)*sin(q_1) + cos(q_0)*cos(q_1)\u001b[0m\u001b[38;5;1m0           \u001b[0m\u001b[38;5;4mq_2*(-sin(q_0)*cos(q_1) + sin(q_1)*cos(q_0)) - sin(q_0)\u001b[0m  \u001b[0m\n",
       "      \u001b[38;5;1m0           \u001b[0m\u001b[38;5;1m0           \u001b[0m\u001b[38;5;1m1           \u001b[0m\u001b[38;5;4m0           \u001b[0m  \u001b[0m\n",
       "      \u001b[38;5;244m0           \u001b[0m\u001b[38;5;244m0           \u001b[0m\u001b[38;5;244m0           \u001b[0m\u001b[38;5;244m1           \u001b[0m  \u001b[0m\n",
       "    "
      ]
     },
     "execution_count": 25,
     "metadata": {},
     "output_type": "execute_result"
    }
   ],
   "source": [
    "e.eval(q)"
   ]
  },
  {
   "cell_type": "markdown",
   "metadata": {},
   "source": [
    "## ETS in 2D\n",
    "\n",
    "Everything that we've done in 3D we can do in 2D.  In fact the example above was a planar problem, so we can express it easily using 2D ETS"
   ]
  },
  {
   "cell_type": "code",
   "execution_count": 26,
   "metadata": {},
   "outputs": [],
   "source": [
    "from roboticstoolbox import ETS2 as E2\n",
    "\n",
    "e2 = E2.r() * E2.tx(1) * E2.r() * E2.tx()"
   ]
  },
  {
   "cell_type": "markdown",
   "metadata": {},
   "source": [
    "The main difference is that in 2D there are three elementary transforms to choose from $\\{r, t_x, t_y\\}$ - rotation and translation in the plane.\n",
    "\n",
    "If we evaluate this"
   ]
  },
  {
   "cell_type": "code",
   "execution_count": 27,
   "metadata": {},
   "outputs": [
    {
     "data": {
      "text/plain": [
       "SE3:  \u001b[38;5;1m 1          \u001b[0m\u001b[38;5;1m 0          \u001b[0m\u001b[38;5;1m 2          \u001b[0m  \u001b[0m\n",
       "      \u001b[38;5;1m 0          \u001b[0m\u001b[38;5;1m 1          \u001b[0m\u001b[38;5;1m 1          \u001b[0m  \u001b[0m\n",
       "      \u001b[38;5;1m 0          \u001b[0m\u001b[38;5;1m 0          \u001b[0m\u001b[38;5;1m 1          \u001b[0m  \u001b[0m\n",
       "    "
      ]
     },
     "execution_count": 27,
     "metadata": {},
     "output_type": "execute_result"
    }
   ],
   "source": [
    "e2.eval([90, -90, 2], 'deg')"
   ]
  },
  {
   "cell_type": "markdown",
   "metadata": {},
   "source": [
    "and the result this time is an SE(2) matrix encapsulated in an `SE2` instance."
   ]
  },
  {
   "cell_type": "markdown",
   "metadata": {},
   "source": [
    "## A more complex example\n",
    "\n",
    "We could consider something more ambitious like a Puma560 robot which six unique lengths\n",
    "\n",
    "Reference:\n",
    "- [A simple and systematic approach to assigning Denavit-Hartenberg parameters](https://petercorke.com/robotics/a-simple-and-systematic-approach-to-assigning-denavit-hartenberg-parameters), Peter I. Corke, IEEE Transactions on Robotics, 23(3), pp 590-594, June 2007."
   ]
  },
  {
   "cell_type": "code",
   "execution_count": 28,
   "metadata": {},
   "outputs": [],
   "source": [
    "l1 = 0.672;\n",
    "l2 = 0.2337\n",
    "l3 = 0.4318\n",
    "l4 = -0.0837\n",
    "l5 = 0.4318\n",
    "l6 = 0.0203"
   ]
  },
  {
   "cell_type": "markdown",
   "metadata": {},
   "source": [
    "and we can describe the tip of the robot by a sequence of elementary transforms"
   ]
  },
  {
   "cell_type": "code",
   "execution_count": 29,
   "metadata": {},
   "outputs": [
    {
     "data": {
      "text/plain": [
       "tz(0.672) * Rz(q0) * ty(0.2337) * Ry(q1) * tz(0.4318) * tx(0.0203) * ty(-0.0837) * Ry(q2) * tz(0.4318) * Rz(q3) * Ry(q4) * Rz(q5) * tx(0.2)"
      ]
     },
     "execution_count": 29,
     "metadata": {},
     "output_type": "execute_result"
    }
   ],
   "source": [
    "e = E.tz(l1) * E.rz() * E.ty(l2) * E.ry() * E.tz(l3) * E.tx(l6) *  E.ty(l4) * E.ry() * E.tz(l5) \\\n",
    "    * E.rz() * E.ry() * E.rz() * E.tx(0.2)\n",
    "e"
   ]
  },
  {
   "cell_type": "code",
   "execution_count": 30,
   "metadata": {},
   "outputs": [
    {
     "data": {
      "text/plain": [
       "6"
      ]
     },
     "execution_count": 30,
     "metadata": {},
     "output_type": "execute_result"
    }
   ],
   "source": [
    "e.n"
   ]
  },
  {
   "cell_type": "code",
   "execution_count": 31,
   "metadata": {},
   "outputs": [
    {
     "data": {
      "text/plain": [
       "array([ 1,  3,  7,  9, 10, 11])"
      ]
     },
     "execution_count": 31,
     "metadata": {},
     "output_type": "execute_result"
    }
   ],
   "source": [
    "e.joints()"
   ]
  },
  {
   "cell_type": "code",
   "execution_count": 32,
   "metadata": {},
   "outputs": [
    {
     "data": {
      "text/plain": [
       "SE3:  \u001b[38;5;1m 1          \u001b[0m\u001b[38;5;1m 0          \u001b[0m\u001b[38;5;1m 0          \u001b[0m\u001b[38;5;4m 0.2203     \u001b[0m  \u001b[0m\n",
       "      \u001b[38;5;1m 0          \u001b[0m\u001b[38;5;1m 1          \u001b[0m\u001b[38;5;1m 0          \u001b[0m\u001b[38;5;4m 0.15       \u001b[0m  \u001b[0m\n",
       "      \u001b[38;5;1m 0          \u001b[0m\u001b[38;5;1m 0          \u001b[0m\u001b[38;5;1m 1          \u001b[0m\u001b[38;5;4m 1.5356     \u001b[0m  \u001b[0m\n",
       "      \u001b[38;5;244m 0          \u001b[0m\u001b[38;5;244m 0          \u001b[0m\u001b[38;5;244m 0          \u001b[0m\u001b[38;5;244m 1          \u001b[0m  \u001b[0m\n",
       "    "
      ]
     },
     "execution_count": 32,
     "metadata": {},
     "output_type": "execute_result"
    }
   ],
   "source": [
    "e.eval([0]*6)"
   ]
  },
  {
   "cell_type": "markdown",
   "metadata": {},
   "source": [
    "We can compute not only forward kinematics, but also the differential kinematics"
   ]
  },
  {
   "cell_type": "code",
   "execution_count": 33,
   "metadata": {},
   "outputs": [
    {
     "data": {
      "text/plain": [
       "array([[-0.15  ,  0.8636,  0.4318,  0.    ,  0.    ,  0.    ],\n",
       "       [ 0.2203,  0.    ,  0.    ,  0.2   ,  0.    ,  0.2   ],\n",
       "       [ 0.    , -0.2203, -0.2   ,  0.    , -0.2   ,  0.    ],\n",
       "       [ 0.    ,  0.    ,  0.    ,  0.    ,  0.    ,  0.    ],\n",
       "       [ 0.    ,  1.    ,  1.    ,  0.    ,  1.    ,  0.    ],\n",
       "       [ 1.    ,  0.    ,  0.    ,  1.    ,  0.    ,  1.    ]])"
      ]
     },
     "execution_count": 33,
     "metadata": {},
     "output_type": "execute_result"
    }
   ],
   "source": [
    "J = e.jacobe([0]*6)\n",
    "J"
   ]
  },
  {
   "cell_type": "markdown",
   "metadata": {},
   "source": [
    "which relates the rate of change of the end-effector position to the rate of change of joint coordinates.\n",
    "The rate of change of the end-effector position is its velocity, but because it moves in 3D we need to describe its translational velocity (a 3-vector) and its angular velocity (another 3-vector).  We pack these into a 6-vector which is known as _spatial velocity_ and denoted by $\\nu$.  These quantities are related by\n",
    "\n",
    "$\\nu = \\mathbf{J}(q) \\dot{q}$"
   ]
  },
  {
   "cell_type": "markdown",
   "metadata": {},
   "source": [
    "The Hessian is a tensor (3-dimensional matrix) that relates joint velocity to end-effector acceleration $\\dot{\\nu}$"
   ]
  },
  {
   "cell_type": "code",
   "execution_count": 34,
   "metadata": {},
   "outputs": [
    {
     "data": {
      "text/plain": [
       "array([[[-0.2203, -0.    , -0.    , -0.2   , -0.    , -0.2   ],\n",
       "        [-0.    , -0.2203, -0.2   ,  0.    , -0.2   ,  0.    ],\n",
       "        [-0.    , -0.2   , -0.2   ,  0.    , -0.2   ,  0.    ],\n",
       "        [-0.2   ,  0.    ,  0.    , -0.2   , -0.    , -0.2   ],\n",
       "        [-0.    , -0.2   , -0.2   , -0.    , -0.2   ,  0.    ],\n",
       "        [-0.2   ,  0.    ,  0.    , -0.2   ,  0.    , -0.2   ]],\n",
       "\n",
       "       [[-0.15  ,  0.8636,  0.4318,  0.    ,  0.    ,  0.    ],\n",
       "        [ 0.8636,  0.    ,  0.    ,  0.    ,  0.    ,  0.    ],\n",
       "        [ 0.4318,  0.    ,  0.    ,  0.    ,  0.    ,  0.    ],\n",
       "        [ 0.    ,  0.    ,  0.    ,  0.    ,  0.    ,  0.    ],\n",
       "        [ 0.    ,  0.    ,  0.    ,  0.    ,  0.    ,  0.    ],\n",
       "        [ 0.    ,  0.    ,  0.    ,  0.    ,  0.    ,  0.    ]],\n",
       "\n",
       "       [[ 0.    ,  0.    ,  0.    ,  0.    ,  0.    ,  0.    ],\n",
       "        [ 0.    , -0.8636, -0.4318,  0.    ,  0.    ,  0.    ],\n",
       "        [ 0.    , -0.4318, -0.4318,  0.    ,  0.    ,  0.    ],\n",
       "        [ 0.    ,  0.    ,  0.    ,  0.    ,  0.    ,  0.    ],\n",
       "        [ 0.    ,  0.    ,  0.    ,  0.    ,  0.    ,  0.    ],\n",
       "        [ 0.    ,  0.    ,  0.    ,  0.    ,  0.    ,  0.    ]],\n",
       "\n",
       "       [[ 0.    ,  0.    ,  0.    ,  0.    ,  0.    ,  0.    ],\n",
       "        [-1.    ,  0.    ,  0.    ,  0.    ,  0.    ,  0.    ],\n",
       "        [-1.    ,  0.    ,  0.    ,  0.    ,  0.    ,  0.    ],\n",
       "        [ 0.    ,  1.    ,  1.    ,  0.    ,  0.    ,  0.    ],\n",
       "        [-1.    ,  0.    ,  0.    , -1.    ,  0.    ,  0.    ],\n",
       "        [ 0.    ,  1.    ,  1.    ,  0.    ,  1.    ,  0.    ]],\n",
       "\n",
       "       [[ 0.    ,  0.    ,  0.    ,  0.    ,  0.    ,  0.    ],\n",
       "        [ 0.    ,  0.    ,  0.    ,  0.    ,  0.    ,  0.    ],\n",
       "        [ 0.    ,  0.    ,  0.    ,  0.    ,  0.    ,  0.    ],\n",
       "        [ 0.    ,  0.    ,  0.    ,  0.    ,  0.    ,  0.    ],\n",
       "        [ 0.    ,  0.    ,  0.    ,  0.    ,  0.    ,  0.    ],\n",
       "        [ 0.    ,  0.    ,  0.    ,  0.    ,  0.    ,  0.    ]],\n",
       "\n",
       "       [[ 0.    ,  0.    ,  0.    ,  0.    ,  0.    ,  0.    ],\n",
       "        [ 0.    ,  0.    ,  0.    ,  0.    ,  0.    ,  0.    ],\n",
       "        [ 0.    ,  0.    ,  0.    ,  0.    ,  0.    ,  0.    ],\n",
       "        [ 0.    ,  0.    ,  0.    ,  0.    ,  0.    ,  0.    ],\n",
       "        [ 0.    ,  0.    ,  0.    ,  0.    ,  0.    ,  0.    ],\n",
       "        [ 0.    ,  0.    ,  0.    ,  0.    ,  0.    ,  0.    ]]])"
      ]
     },
     "execution_count": 34,
     "metadata": {},
     "output_type": "execute_result"
    }
   ],
   "source": [
    "e.hessian0([0]*6)"
   ]
  },
  {
   "cell_type": "markdown",
   "metadata": {},
   "source": [
    "## Compilation\n",
    "\n",
    "If we were to evaluate this ETS many times we would be peforming lots of unneccessary multiplication of constant terms such as "
   ]
  },
  {
   "cell_type": "code",
   "execution_count": 35,
   "metadata": {},
   "outputs": [
    {
     "data": {
      "text/plain": [
       "tz(0.4318) * tx(0.0203) * ty(-0.0837)"
      ]
     },
     "execution_count": 35,
     "metadata": {},
     "output_type": "execute_result"
    }
   ],
   "source": [
    "e[4:7]"
   ]
  },
  {
   "cell_type": "markdown",
   "metadata": {},
   "source": [
    "To make an ETS more efficient to run we can \"compile it\""
   ]
  },
  {
   "cell_type": "code",
   "execution_count": 36,
   "metadata": {},
   "outputs": [
    {
     "data": {
      "text/plain": [
       "C0 * Rz(q0) * C1 * Ry(q1) * C2 * Ry(q2) * C3 * Rz(q3) * Ry(q4) * Rz(q5) * C4"
      ]
     },
     "execution_count": 36,
     "metadata": {},
     "output_type": "execute_result"
    }
   ],
   "source": [
    "ec = e.compile()\n",
    "ec"
   ]
  },
  {
   "cell_type": "markdown",
   "metadata": {},
   "source": [
    "and we can see that consecutive constant transforms have been folded into new \"not so elementary\" transforms denoted by `Ci`.  The value of the ETS, is of course the same."
   ]
  },
  {
   "cell_type": "code",
   "execution_count": 37,
   "metadata": {},
   "outputs": [
    {
     "data": {
      "text/plain": [
       "SE3:  \u001b[38;5;1m 1          \u001b[0m\u001b[38;5;1m 0          \u001b[0m\u001b[38;5;1m 0          \u001b[0m\u001b[38;5;4m 0.2203     \u001b[0m  \u001b[0m\n",
       "      \u001b[38;5;1m 0          \u001b[0m\u001b[38;5;1m 1          \u001b[0m\u001b[38;5;1m 0          \u001b[0m\u001b[38;5;4m 0.15       \u001b[0m  \u001b[0m\n",
       "      \u001b[38;5;1m 0          \u001b[0m\u001b[38;5;1m 0          \u001b[0m\u001b[38;5;1m 1          \u001b[0m\u001b[38;5;4m 1.5356     \u001b[0m  \u001b[0m\n",
       "      \u001b[38;5;244m 0          \u001b[0m\u001b[38;5;244m 0          \u001b[0m\u001b[38;5;244m 0          \u001b[0m\u001b[38;5;244m 1          \u001b[0m  \u001b[0m\n",
       "    "
      ]
     },
     "execution_count": 37,
     "metadata": {},
     "output_type": "execute_result"
    }
   ],
   "source": [
    "ec.eval([0]*6)"
   ]
  },
  {
   "cell_type": "markdown",
   "metadata": {},
   "source": [
    "## Explicit joint indices\n",
    "\n",
    "Consider that we carve out a chunk of this ETS that represents the Puma560, say the wrist bit"
   ]
  },
  {
   "cell_type": "code",
   "execution_count": 38,
   "metadata": {},
   "outputs": [
    {
     "data": {
      "text/plain": [
       "Rz(q0) * Ry(q1) * Rz(q2) * tx(0.2)"
      ]
     },
     "execution_count": 38,
     "metadata": {},
     "output_type": "execute_result"
    }
   ],
   "source": [
    "wrist = e[9:]\n",
    "wrist"
   ]
  },
  {
   "cell_type": "markdown",
   "metadata": {},
   "source": [
    "we see that by default the wrist joints, joint 3-5 in the robot are associated with joints 0-2 in the wrist.  If we had a vector of six joint angles, corresponding to the whole robot "
   ]
  },
  {
   "cell_type": "code",
   "execution_count": 39,
   "metadata": {},
   "outputs": [],
   "source": [
    "q = [0.1, 0.2, 0.3, 0.4, 0.5, 0.6]"
   ]
  },
  {
   "cell_type": "markdown",
   "metadata": {},
   "source": [
    "then to evaluate the wrist we'd have to write"
   ]
  },
  {
   "cell_type": "code",
   "execution_count": 40,
   "metadata": {},
   "outputs": [
    {
     "data": {
      "text/plain": [
       "SE3:  \u001b[38;5;1m 0.447242   \u001b[0m\u001b[38;5;1m-0.777805   \u001b[0m\u001b[38;5;1m 0.44158    \u001b[0m\u001b[38;5;4m 0.0894485  \u001b[0m  \u001b[0m\n",
       "      \u001b[38;5;1m 0.802126   \u001b[0m\u001b[38;5;1m 0.56722    \u001b[0m\u001b[38;5;1m 0.186697   \u001b[0m\u001b[38;5;4m 0.160425   \u001b[0m  \u001b[0m\n",
       "      \u001b[38;5;1m-0.395687   \u001b[0m\u001b[38;5;1m 0.270704   \u001b[0m\u001b[38;5;1m 0.877583   \u001b[0m\u001b[38;5;4m-0.0791374  \u001b[0m  \u001b[0m\n",
       "      \u001b[38;5;244m 0          \u001b[0m\u001b[38;5;244m 0          \u001b[0m\u001b[38;5;244m 0          \u001b[0m\u001b[38;5;244m 1          \u001b[0m  \u001b[0m\n",
       "    "
      ]
     },
     "execution_count": 40,
     "metadata": {},
     "output_type": "execute_result"
    }
   ],
   "source": [
    "wrist.eval(q[3:])"
   ]
  },
  {
   "cell_type": "markdown",
   "metadata": {},
   "source": [
    "which is quite doable, but imagine now that the ETS represents the transforms from the right hand to the left hand of a two armed robot.  The joint numbers in that ETS would not be sequential with respect to the overall joint coordinate vector of the whole robot.\n",
    "\n",
    "To help deal with such situations we can assign a joint index to each ETS.  We'll do this for the Puma 560"
   ]
  },
  {
   "cell_type": "code",
   "execution_count": 41,
   "metadata": {},
   "outputs": [
    {
     "data": {
      "text/plain": [
       "tz(0.672) * Rz(q0) * ty(0.2337) * Ry(q1) * tz(0.4318) * tx(0.0203) * ty(-0.0837) * Ry(q2) * tz(0.4318) * Rz(q3) * Ry(q4) * Rz(q5) * tx(0.2)"
      ]
     },
     "execution_count": 41,
     "metadata": {},
     "output_type": "execute_result"
    }
   ],
   "source": [
    "e = E.tz(l1) * E.rz(j=0) * E.ty(l2) * E.ry(j=1) * E.tz(l3) * E.tx(l6) * E.ty(l4) * E.ry(j=2) * E.tz(l5) \\\n",
    "    * E.rz(j=3) * E.ry(j=4) * E.rz(j=5) * E.tx(0.2)\n",
    "e"
   ]
  },
  {
   "cell_type": "markdown",
   "metadata": {},
   "source": [
    "and when we display the ETS it looks no different, since the joint indices we assigned match the default sequential assignment.  However if we now take the wrist part"
   ]
  },
  {
   "cell_type": "code",
   "execution_count": 42,
   "metadata": {},
   "outputs": [
    {
     "data": {
      "text/plain": [
       "Rz(q3) * Ry(q4) * Rz(q5) * tx(0.2)"
      ]
     },
     "execution_count": 42,
     "metadata": {},
     "output_type": "execute_result"
    }
   ],
   "source": [
    "wrist = e[9:]\n",
    "wrist"
   ]
  },
  {
   "cell_type": "markdown",
   "metadata": {},
   "source": [
    "we see that the explicit joint indices are displayed as arguments of the ETs.\n",
    "\n",
    "Now if evaluate the wrist part"
   ]
  },
  {
   "cell_type": "code",
   "execution_count": 43,
   "metadata": {},
   "outputs": [
    {
     "data": {
      "text/plain": [
       "SE3:  \u001b[38;5;1m 0.447242   \u001b[0m\u001b[38;5;1m-0.777805   \u001b[0m\u001b[38;5;1m 0.44158    \u001b[0m\u001b[38;5;4m 0.0894485  \u001b[0m  \u001b[0m\n",
       "      \u001b[38;5;1m 0.802126   \u001b[0m\u001b[38;5;1m 0.56722    \u001b[0m\u001b[38;5;1m 0.186697   \u001b[0m\u001b[38;5;4m 0.160425   \u001b[0m  \u001b[0m\n",
       "      \u001b[38;5;1m-0.395687   \u001b[0m\u001b[38;5;1m 0.270704   \u001b[0m\u001b[38;5;1m 0.877583   \u001b[0m\u001b[38;5;4m-0.0791374  \u001b[0m  \u001b[0m\n",
       "      \u001b[38;5;244m 0          \u001b[0m\u001b[38;5;244m 0          \u001b[0m\u001b[38;5;244m 0          \u001b[0m\u001b[38;5;244m 1          \u001b[0m  \u001b[0m\n",
       "    "
      ]
     },
     "execution_count": 43,
     "metadata": {},
     "output_type": "execute_result"
    }
   ],
   "source": [
    "wrist.eval(q)"
   ]
  },
  {
   "cell_type": "markdown",
   "metadata": {},
   "source": [
    "we get the same answer as earlier because it is referencing `q[3]`, `q[4]` and `q[5]`."
   ]
  },
  {
   "cell_type": "markdown",
   "metadata": {},
   "source": [
    "## Handling joint offsets\n",
    "\n",
    "When using Denavit-Hartenberg notation, we are often forced to choose a robot joint configuration for zero joint angles that is not what the controller or the user may wish to define as zero joint angles.  The `DHRobot` allows the user to specify joint coordinate offsets, a per-link parameter stored in the robots `DHLink` subclass elements.  This is subtracted from the user's joint angles to obtain the kinematic joint angles on which we compute forward kinematics or Jacobians.  Similarly, these offsets are added to the results of any inverse kinematic solution.\n",
    "\n",
    "With the ETS convention things are a lot easier. We just draw (or imagine) the robot in the pose we define as the \"zero angle pose\" - the configuration where all the joint coordinates are zero.  It might be that this leads to transforms sequences with consecutive elements which are a constant and joint transform about the same axis, for example  `rx(90, 'deg') rx()`.  We could write this in arbitrary order - the result will be the same - but for the toolbox we adopt the convention that a constant transformation on the same axis as a joint is placed before the joint transform.  \n",
    "\n",
    "The justification for this is that  because when wen come to assign link frames we place them immediately after a joint transform.  For the Puma560 case\n",
    "\n",
    "\n",
    "**{0}** E.tz(l1) * E.rz() **{1}** * E.ty(l2) * E.ry() **{2}** * E.tz(l3) * E.tx(l6) * \\\n",
    "    E.ty(l4) * E.ry() **{3}** * E.tz(l5) * E.rz() **{4}** * E.ry() **{5}** * E.rz() **{6}** * E.tx(0.2) **{ee}**\n",
    "\n",
    "\n",
    "These extra transformation incur minimal computational overhead, since after compilation, they will be folded in with other constant transforms.\n"
   ]
  },
  {
   "cell_type": "markdown",
   "metadata": {},
   "source": [
    "## Converting an ETS to a robot\n",
    "\n",
    "The ETS succinctly describes the forward kinematics of a robot and we can also compute its Jacobian and Hessian.  However Toolbox robot objects have additional capability for graphics, inverse kinematics and dynamics.  We can _promote_ an ETS to a robot by"
   ]
  },
  {
   "cell_type": "code",
   "execution_count": 44,
   "metadata": {},
   "outputs": [
    {
     "name": "stdout",
     "output_type": "stream",
     "text": [
      "┌──────┬────────┬────────────────────────────────────────────────┐\n",
      "│ link │ parent │                      ETS                       │\n",
      "├──────┼────────┼────────────────────────────────────────────────┤\n",
      "│link0\u001b[0m │      -\u001b[0m │                             tz(0.672) * Rz(q0)\u001b[0m │\n",
      "│link1\u001b[0m │  link0\u001b[0m │                            ty(0.2337) * Ry(q1)\u001b[0m │\n",
      "│link2\u001b[0m │  link1\u001b[0m │ tz(0.4318) * tx(0.0203) * ty(-0.0837) * Ry(q2)\u001b[0m │\n",
      "│link3\u001b[0m │  link2\u001b[0m │                            tz(0.4318) * Rz(q3)\u001b[0m │\n",
      "│link4\u001b[0m │  link3\u001b[0m │                                         Ry(q4)\u001b[0m │\n",
      "│link5\u001b[0m │  link4\u001b[0m │                                         Rz(q5)\u001b[0m │\n",
      "│   \u001b[38;5;4mee\u001b[0m │  link5\u001b[0m │                                        tx(0.2)\u001b[0m │\n",
      "└──────┴────────┴────────────────────────────────────────────────┘\n",
      "\n"
     ]
    }
   ],
   "source": [
    "robot = rtb.ERobot(e)\n",
    "print(robot)"
   ]
  },
  {
   "cell_type": "markdown",
   "metadata": {},
   "source": [
    "The ETS has been chopped into segments that connect links.  Each link is a rigid-body with an attached coordinate frame.  Relative to that frame is a short ETS that ends with joint transform that describes the coordinate frame of the next link in the chain.\n",
    "\n",
    "Note that the last link, with its name in blue, has no joint transform.  It is simply a constant relative pose with respect to the link 5 coordinate frame."
   ]
  },
  {
   "cell_type": "markdown",
   "metadata": {},
   "source": [
    "## Converting a robot to ETS\n",
    "\n",
    "We can also perform the inverse transformation. Consider a model defined using Denavit-Hartenberg notation"
   ]
  },
  {
   "cell_type": "code",
   "execution_count": 45,
   "metadata": {},
   "outputs": [
    {
     "name": "stdout",
     "output_type": "stream",
     "text": [
      "┏━━━━┳━━━━━━━━━┳━━━━━━━━┳━━━━━━━━┳━━━━━━━━━┳━━━━━━━━┓\n",
      "┃θⱼ  ┃   dⱼ    ┃   aⱼ   ┃   ⍺ⱼ   ┃   q⁻    ┃   q⁺   ┃\n",
      "┣━━━━╋━━━━━━━━━╋━━━━━━━━╋━━━━━━━━╋━━━━━━━━━╋━━━━━━━━┫\n",
      "┃ q1\u001b[0m ┃       0\u001b[0m ┃      0\u001b[0m ┃  90.0°\u001b[0m ┃ -160.0°\u001b[0m ┃ 160.0°\u001b[0m ┃\n",
      "┃ q2\u001b[0m ┃       0\u001b[0m ┃ 0.4318\u001b[0m ┃   0.0°\u001b[0m ┃ -110.0°\u001b[0m ┃ 110.0°\u001b[0m ┃\n",
      "┃ q3\u001b[0m ┃ 0.15005\u001b[0m ┃ 0.0203\u001b[0m ┃ -90.0°\u001b[0m ┃ -135.0°\u001b[0m ┃ 135.0°\u001b[0m ┃\n",
      "┃ q4\u001b[0m ┃  0.4318\u001b[0m ┃      0\u001b[0m ┃  90.0°\u001b[0m ┃ -266.0°\u001b[0m ┃ 266.0°\u001b[0m ┃\n",
      "┃ q5\u001b[0m ┃       0\u001b[0m ┃      0\u001b[0m ┃ -90.0°\u001b[0m ┃ -100.0°\u001b[0m ┃ 100.0°\u001b[0m ┃\n",
      "┃ q6\u001b[0m ┃       0\u001b[0m ┃      0\u001b[0m ┃   0.0°\u001b[0m ┃ -266.0°\u001b[0m ┃ 266.0°\u001b[0m ┃\n",
      "┗━━━━┻━━━━━━━━━┻━━━━━━━━┻━━━━━━━━┻━━━━━━━━━┻━━━━━━━━┛\n",
      "\n",
      "┌─────┬─────┬──────┬───────┬─────┬──────┬─────┐\n",
      "│name │ q0  │ q1   │ q2    │ q3  │ q4   │ q5  │\n",
      "├─────┼─────┼──────┼───────┼─────┼──────┼─────┤\n",
      "│  qz\u001b[0m │  0°\u001b[0m │  0°\u001b[0m  │  0°\u001b[0m   │  0°\u001b[0m │  0°\u001b[0m  │  0°\u001b[0m │\n",
      "│  qr\u001b[0m │  0°\u001b[0m │  90°\u001b[0m │ -90°\u001b[0m  │  0°\u001b[0m │  0°\u001b[0m  │  0°\u001b[0m │\n",
      "│  qs\u001b[0m │  0°\u001b[0m │  0°\u001b[0m  │ -90°\u001b[0m  │  0°\u001b[0m │  0°\u001b[0m  │  0°\u001b[0m │\n",
      "│  qn\u001b[0m │  0°\u001b[0m │  45°\u001b[0m │  180°\u001b[0m │  0°\u001b[0m │  45°\u001b[0m │  0°\u001b[0m │\n",
      "└─────┴─────┴──────┴───────┴─────┴──────┴─────┘\n",
      "\n"
     ]
    }
   ],
   "source": [
    "puma = rtb.models.DH.Puma560()\n",
    "print(puma)"
   ]
  },
  {
   "cell_type": "code",
   "execution_count": 46,
   "metadata": {},
   "outputs": [
    {
     "name": "stdout",
     "output_type": "stream",
     "text": [
      "Rx(90°) * Rz(q0) * tx(0.4318) * Rz(q1) * tx(0.0203) * Rx(-90°) * Rz(q2) * tz(0.15005) * Rx(90°) * Rz(q3) * tz(0.4318) * Rx(-90°) * Rz(q4) * Rz(q5)\n"
     ]
    }
   ],
   "source": [
    "print(puma.ets())"
   ]
  },
  {
   "cell_type": "markdown",
   "metadata": {},
   "source": [
    "Or for a robot with a prismatic joint"
   ]
  },
  {
   "cell_type": "code",
   "execution_count": 47,
   "metadata": {},
   "outputs": [
    {
     "name": "stdout",
     "output_type": "stream",
     "text": [
      "┏━━━━━━━┳━━━━━━━┳━━━━━━━━┳━━━━━━━━┳━━━━━━━━━━━━━━━━━━━━━┳━━━━━━━━┓\n",
      "┃  θⱼ   ┃  dⱼ   ┃   aⱼ   ┃   ⍺ⱼ   ┃         q⁻          ┃   q⁺   ┃\n",
      "┣━━━━━━━╋━━━━━━━╋━━━━━━━━╋━━━━━━━━╋━━━━━━━━━━━━━━━━━━━━━╋━━━━━━━━┫\n",
      "┃ q1\u001b[0m    ┃ 0.412\u001b[0m ┃      0\u001b[0m ┃ -90.0°\u001b[0m ┃             -170.0°\u001b[0m ┃ 170.0°\u001b[0m ┃\n",
      "┃ q2\u001b[0m    ┃ 0.154\u001b[0m ┃    0.0\u001b[0m ┃  90.0°\u001b[0m ┃             -170.0°\u001b[0m ┃ 170.0°\u001b[0m ┃\n",
      "┃-90.0°\u001b[0m ┃    q3\u001b[0m ┃ 0.0203\u001b[0m ┃   0.0°\u001b[0m ┃ 0.30479999999999996\u001b[0m ┃   1.27\u001b[0m ┃\n",
      "┃ q4\u001b[0m    ┃     0\u001b[0m ┃      0\u001b[0m ┃ -90.0°\u001b[0m ┃             -170.0°\u001b[0m ┃ 170.0°\u001b[0m ┃\n",
      "┃ q5\u001b[0m    ┃     0\u001b[0m ┃      0\u001b[0m ┃  90.0°\u001b[0m ┃              -90.0°\u001b[0m ┃  90.0°\u001b[0m ┃\n",
      "┃ q6\u001b[0m    ┃     0\u001b[0m ┃      0\u001b[0m ┃   0.0°\u001b[0m ┃             -170.0°\u001b[0m ┃ 170.0°\u001b[0m ┃\n",
      "┗━━━━━━━┻━━━━━━━┻━━━━━━━━┻━━━━━━━━┻━━━━━━━━━━━━━━━━━━━━━┻━━━━━━━━┛\n",
      "\n",
      "┌─────┬─────┬─────┬────┬─────┬─────┬─────┐\n",
      "│name │ q0  │ q1  │ q2 │ q3  │ q4  │ q5  │\n",
      "├─────┼─────┼─────┼────┼─────┼─────┼─────┤\n",
      "│  qz\u001b[0m │  0°\u001b[0m │  0°\u001b[0m │  0\u001b[0m │  0°\u001b[0m │  0°\u001b[0m │  0°\u001b[0m │\n",
      "└─────┴─────┴─────┴────┴─────┴─────┴─────┘\n",
      "\n"
     ]
    }
   ],
   "source": [
    "stanford = rtb.models.DH.Stanford()\n",
    "print(stanford)"
   ]
  },
  {
   "cell_type": "code",
   "execution_count": 48,
   "metadata": {},
   "outputs": [
    {
     "name": "stdout",
     "output_type": "stream",
     "text": [
      "Rx(-90°) * Rz(q0) * tz(0.412) * Rx(90°) * Rz(q1) * tz(0.154) * tx(0.0203) * tz(-1.5707963267948966) * tz(q2) * Rx(-90°) * Rz(q3) * Rx(90°) * Rz(q4) * Rz(q5)\n"
     ]
    }
   ],
   "source": [
    "print(stanford.ets())"
   ]
  },
  {
   "cell_type": "code",
   "execution_count": null,
   "metadata": {},
   "outputs": [],
   "source": []
  }
 ],
 "metadata": {
  "kernelspec": {
   "display_name": "Python 3",
   "language": "python",
   "name": "python3"
  },
  "language_info": {
   "codemirror_mode": {
    "name": "ipython",
    "version": 3
   },
   "file_extension": ".py",
   "mimetype": "text/x-python",
   "name": "python",
   "nbconvert_exporter": "python",
   "pygments_lexer": "ipython3",
   "version": "3.8.5"
  },
  "varInspector": {
   "cols": {
    "lenName": 16,
    "lenType": 16,
    "lenVar": 40
   },
   "kernels_config": {
    "python": {
     "delete_cmd_postfix": "",
     "delete_cmd_prefix": "del ",
     "library": "var_list.py",
     "varRefreshCmd": "print(var_dic_list())"
    },
    "r": {
     "delete_cmd_postfix": ") ",
     "delete_cmd_prefix": "rm(",
     "library": "var_list.r",
     "varRefreshCmd": "cat(var_dic_list()) "
    }
   },
   "types_to_exclude": [
    "module",
    "function",
    "builtin_function_or_method",
    "instance",
    "_Feature"
   ],
   "window_display": false
  }
 },
 "nbformat": 4,
 "nbformat_minor": 4
}
