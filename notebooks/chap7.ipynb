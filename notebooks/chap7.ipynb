{
 "cells": [
  {
   "cell_type": "code",
   "execution_count": 1,
   "metadata": {
    "tags": []
   },
   "outputs": [],
   "source": [
    "%matplotlib widget\n",
    "import roboticstoolbox as rp\n",
    "import numpy as np\n",
    "\n",
    "panda = rp.models.DH.Panda()"
   ]
  },
  {
   "cell_type": "code",
   "execution_count": 2,
   "metadata": {
    "scrolled": true,
    "tags": []
   },
   "outputs": [
    {
     "name": "stdout",
     "output_type": "stream",
     "text": [
      "  \u001b[38;5;1m\u001b[48;5;255m 0.707107   \u001b[0m\u001b[38;5;1m\u001b[48;5;255m 0.707107   \u001b[0m\u001b[38;5;1m\u001b[48;5;255m 0          \u001b[0m\u001b[38;5;4m\u001b[48;5;255m 0.088      \u001b[0m\u001b[48;5;255m  \u001b[0m\n",
      "  \u001b[38;5;1m\u001b[48;5;255m 0.707107   \u001b[0m\u001b[38;5;1m\u001b[48;5;255m-0.707107   \u001b[0m\u001b[38;5;1m\u001b[48;5;255m 0          \u001b[0m\u001b[38;5;4m\u001b[48;5;255m 0          \u001b[0m\u001b[48;5;255m  \u001b[0m\n",
      "  \u001b[38;5;1m\u001b[48;5;255m 0          \u001b[0m\u001b[38;5;1m\u001b[48;5;255m 0          \u001b[0m\u001b[38;5;1m\u001b[48;5;255m-1          \u001b[0m\u001b[38;5;4m\u001b[48;5;255m 0.823      \u001b[0m\u001b[48;5;255m  \u001b[0m\n",
      "  \u001b[38;5;244m\u001b[48;5;255m 0          \u001b[0m\u001b[38;5;244m\u001b[48;5;255m 0          \u001b[0m\u001b[38;5;244m\u001b[48;5;255m 0          \u001b[0m\u001b[38;5;244m\u001b[48;5;255m 1          \u001b[0m\u001b[48;5;255m  \u001b[0m\n",
      "\n"
     ]
    }
   ],
   "source": [
    "print(panda.fkine())"
   ]
  },
  {
   "cell_type": "code",
   "execution_count": 3,
   "metadata": {
    "tags": []
   },
   "outputs": [
    {
     "data": {
      "application/vnd.jupyter.widget-view+json": {
       "model_id": "5311f173c29848c0872ecde54e7c67ba",
       "version_major": 2,
       "version_minor": 0
      },
      "text/plain": [
       "Canvas(toolbar=Toolbar(toolitems=[('Home', 'Reset original view', 'home', 'home'), ('Back', 'Back to previous …"
      ]
     },
     "metadata": {},
     "output_type": "display_data"
    },
    {
     "data": {
      "text/plain": [
       "<roboticstoolbox.backend.PyPlot.PyPlot.PyPlot at 0x7fb39e65ee10>"
      ]
     },
     "execution_count": 3,
     "metadata": {},
     "output_type": "execute_result"
    }
   ],
   "source": [
    "panda.teach(block=True)"
   ]
  },
  {
   "cell_type": "code",
   "execution_count": 5,
   "metadata": {},
   "outputs": [
    {
     "data": {
      "application/vnd.jupyter.widget-view+json": {
       "model_id": "abfe9e42b1d34ac3bb698b7e89efe2e9",
       "version_major": 2,
       "version_minor": 0
      },
      "text/plain": [
       "Canvas(toolbar=Toolbar(toolitems=[('Home', 'Reset original view', 'home', 'home'), ('Back', 'Back to previous …"
      ]
     },
     "metadata": {},
     "output_type": "display_data"
    },
    {
     "data": {
      "text/plain": [
       "<roboticstoolbox.backend.PyPlot.PyPlot.PyPlot at 0x7fbfd4cc4410>"
      ]
     },
     "execution_count": 5,
     "metadata": {},
     "output_type": "execute_result"
    }
   ],
   "source": [
    "panda.plot(block=False)"
   ]
  },
  {
   "cell_type": "code",
   "execution_count": null,
   "metadata": {},
   "outputs": [],
   "source": []
  }
 ],
 "metadata": {
  "kernelspec": {
   "display_name": "Python 3",
   "language": "python",
   "name": "python3"
  },
  "language_info": {
   "codemirror_mode": {
    "name": "ipython",
    "version": 3
   },
   "file_extension": ".py",
   "mimetype": "text/x-python",
   "name": "python",
   "nbconvert_exporter": "python",
   "pygments_lexer": "ipython3",
   "version": "3.7.6"
  },
  "toc": {
   "base_numbering": 1,
   "nav_menu": {},
   "number_sections": true,
   "sideBar": true,
   "skip_h1_title": false,
   "title_cell": "Table of Contents",
   "title_sidebar": "Contents",
   "toc_cell": false,
   "toc_position": {},
   "toc_section_display": true,
   "toc_window_display": false
  }
 },
 "nbformat": 4,
 "nbformat_minor": 2
}
