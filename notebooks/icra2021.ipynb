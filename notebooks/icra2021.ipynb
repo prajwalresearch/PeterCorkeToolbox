{
 "cells": [
  {
   "cell_type": "markdown",
   "metadata": {},
   "source": [
    "# Not your grandmother’s toolbox– the Robotics Toolbox reinvented for python\n",
    "### Peter Corke and Jesse Haviland\n",
    "\n",
    "This is the code for the examples in the paper published at ICRA2021.\n"
   ]
  },
  {
   "cell_type": "code",
   "execution_count": 125,
   "metadata": {},
   "outputs": [
    {
     "data": {
      "text/html": [
       "\n",
       "<style>\n",
       "    div#notebook-container    { width: 95%; }\n",
       "    div#menubar-container     { width: 65%; }\n",
       "    div#maintoolbar-container { width: 99%; }\n",
       "</style>\n"
      ],
      "text/plain": [
       "<IPython.core.display.HTML object>"
      ]
     },
     "metadata": {},
     "output_type": "display_data"
    }
   ],
   "source": [
    "from math import pi\n",
    "import numpy as np\n",
    "\n",
    "# display result of assignments\n",
    "%config ZMQInteractiveShell.ast_node_interactivity = 'last_expr_or_assign'\n",
    "# make NumPy display a bit nicer\n",
    "np.set_printoptions(linewidth=100, formatter={'float': lambda x: f\"{x:10.4g}\" if abs(x) > 1e-10 else f\"{0:8.4g}\"})\n",
    "# make cells nice and wide\n",
    "from IPython.display import display, HTML\n",
    "display(HTML(data=\"\"\"\n",
    "<style>\n",
    "    div#notebook-container    { width: 95%; }\n",
    "    div#menubar-container     { width: 65%; }\n",
    "    div#maintoolbar-container { width: 99%; }\n",
    "</style>\n",
    "\"\"\"))"
   ]
  },
  {
   "cell_type": "markdown",
   "metadata": {},
   "source": [
    "# III.SPATIAL MATHEMATICS"
   ]
  },
  {
   "cell_type": "code",
   "execution_count": 76,
   "metadata": {},
   "outputs": [
    {
     "data": {
      "text/plain": [
       "array([[  0.9752,  -0.1987, -0.09784,      0.5],\n",
       "       [  0.1538,   0.2896,   0.9447,        0],\n",
       "       [ -0.1593,  -0.9363,    0.313,        0],\n",
       "       [       0,        0,        0,        1]])"
      ]
     },
     "execution_count": 76,
     "metadata": {},
     "output_type": "execute_result"
    }
   ],
   "source": [
    "from spatialmath.base import *\n",
    "T = transl(0.5, 0.0, 0.0) @ rpy2tr(0.1, 0.2, 0.3, order='xyz') @ trotx(-90, 'deg')"
   ]
  },
  {
   "cell_type": "code",
   "execution_count": 77,
   "metadata": {},
   "outputs": [
    {
     "data": {
      "text/plain": [
       "  \u001b[38;5;1m 0.97517    \u001b[0m\u001b[38;5;1m-0.198669   \u001b[0m\u001b[38;5;1m-0.0978434  \u001b[0m\u001b[38;5;4m 0.5        \u001b[0m  \u001b[0m\n",
       "  \u001b[38;5;1m 0.153792   \u001b[0m\u001b[38;5;1m 0.289629   \u001b[0m\u001b[38;5;1m 0.944702   \u001b[0m\u001b[38;5;4m 0          \u001b[0m  \u001b[0m\n",
       "  \u001b[38;5;1m-0.159345   \u001b[0m\u001b[38;5;1m-0.936293   \u001b[0m\u001b[38;5;1m 0.312992   \u001b[0m\u001b[38;5;4m 0          \u001b[0m  \u001b[0m\n",
       "  \u001b[38;5;244m 0          \u001b[0m\u001b[38;5;244m 0          \u001b[0m\u001b[38;5;244m 0          \u001b[0m\u001b[38;5;244m 1          \u001b[0m  \u001b[0m\n"
      ]
     },
     "execution_count": 77,
     "metadata": {},
     "output_type": "execute_result"
    }
   ],
   "source": [
    "from spatialmath import *\n",
    "T = SE3(0.5, 0.0, 0.0) * SE3.RPY([0.1, 0.2, 0.3], order='xyz') * SE3.Rx(-90, unit='deg')"
   ]
  },
  {
   "cell_type": "code",
   "execution_count": 78,
   "metadata": {},
   "outputs": [
    {
     "data": {
      "text/plain": [
       "array([   1.674,    1.252,   -1.402])"
      ]
     },
     "execution_count": 78,
     "metadata": {},
     "output_type": "execute_result"
    }
   ],
   "source": [
    "T.eul()"
   ]
  },
  {
   "cell_type": "code",
   "execution_count": 79,
   "metadata": {},
   "outputs": [
    {
     "data": {
      "text/plain": [
       "array([[  0.9752,  -0.1987, -0.09784],\n",
       "       [  0.1538,   0.2896,   0.9447],\n",
       "       [ -0.1593,  -0.9363,    0.313]])"
      ]
     },
     "execution_count": 79,
     "metadata": {},
     "output_type": "execute_result"
    }
   ],
   "source": [
    "T.R"
   ]
  },
  {
   "cell_type": "code",
   "execution_count": 80,
   "metadata": {},
   "outputs": [
    {
     "data": {
      "image/png": "[encoded data removed]",
      "text/plain": [
       "<Figure size 432x288 with 1 Axes>"
      ]
     },
     "metadata": {},
     "output_type": "display_data"
    }
   ],
   "source": [
    "T.plot(color='red', label='2')"
   ]
  },
  {
   "cell_type": "code",
   "execution_count": 81,
   "metadata": {},
   "outputs": [
    {
     "name": "stdout",
     "output_type": "stream",
     "text": [
      " 0.9888 <<  0.1494,  0.0000,  0.0000 >>\n"
     ]
    },
    {
     "data": {
      "text/plain": []
     },
     "execution_count": 81,
     "metadata": {},
     "output_type": "execute_result"
    }
   ],
   "source": [
    "UnitQuaternion.Rx(0.3)\n",
    "UnitQuaternion.AngVec(0.3, [1, 0, 0])"
   ]
  },
  {
   "cell_type": "code",
   "execution_count": 82,
   "metadata": {},
   "outputs": [
    {
     "data": {
      "text/plain": [
       "100"
      ]
     },
     "execution_count": 82,
     "metadata": {},
     "output_type": "execute_result"
    }
   ],
   "source": [
    "R = SE3.Rx(np.linspace(0, pi/2, num=100))\n",
    "len(R)"
   ]
  },
  {
   "cell_type": "markdown",
   "metadata": {},
   "source": [
    "# IV. ROBOTICS TOOLBOX\n",
    "## A. Robot models"
   ]
  },
  {
   "cell_type": "code",
   "execution_count": 84,
   "metadata": {},
   "outputs": [],
   "source": [
    "from roboticstoolbox import *\n",
    "# robot length values (metres)\n",
    "d1 = 0.352\n",
    "a1 = 0.070\n",
    "a2 = 0.360\n",
    "d4 = 0.380\n",
    "d6 = 0.065;"
   ]
  },
  {
   "cell_type": "code",
   "execution_count": 85,
   "metadata": {},
   "outputs": [
    {
     "data": {
      "text/plain": [
       "my IRB140 (by ): 3 axes (RRR), standard DH parameters\n",
       "┏━━━━┳━━━━━━━┳━━━━━━┳━━━━━━━━┓\n",
       "┃θⱼ  ┃  dⱼ   ┃  aⱼ  ┃   ⍺ⱼ   ┃\n",
       "┣━━━━╋━━━━━━━╋━━━━━━╋━━━━━━━━┫\n",
       "┃ q1\u001b[0m ┃ 0.352\u001b[0m ┃ 0.07\u001b[0m ┃ -90.0°\u001b[0m ┃\n",
       "┃ q2\u001b[0m ┃   0.0\u001b[0m ┃ 0.36\u001b[0m ┃   0.0°\u001b[0m ┃\n",
       "┃ q3\u001b[0m ┃   0.0\u001b[0m ┃  0.0\u001b[0m ┃  90.0°\u001b[0m ┃\n",
       "┗━━━━┻━━━━━━━┻━━━━━━┻━━━━━━━━┛"
      ]
     },
     "execution_count": 85,
     "metadata": {},
     "output_type": "execute_result"
    }
   ],
   "source": [
    "robot = DHRobot([\n",
    "  RevoluteDH(d=d1, a=a1, alpha=-pi/2), \n",
    "  RevoluteDH(a=a2), \n",
    "  RevoluteDH(alpha=pi/2),\n",
    "  ], name=\"my IRB140\")"
   ]
  },
  {
   "cell_type": "code",
   "execution_count": 86,
   "metadata": {},
   "outputs": [
    {
     "data": {
      "text/plain": [
       "Puma 560 (by Unimation): 6 axes (RRRRRR), standard DH parameters\n",
       "┏━━━━┳━━━━━━━━━━━━━━━━━━━━┳━━━━━━━━┳━━━━━━━━┳━━━━━━━━━┳━━━━━━━━┓\n",
       "┃θⱼ  ┃         dⱼ         ┃   aⱼ   ┃   ⍺ⱼ   ┃   q⁻    ┃   q⁺   ┃\n",
       "┣━━━━╋━━━━━━━━━━━━━━━━━━━━╋━━━━━━━━╋━━━━━━━━╋━━━━━━━━━╋━━━━━━━━┫\n",
       "┃ q1\u001b[0m ┃ 0.6718299999999999\u001b[0m ┃      0\u001b[0m ┃  90.0°\u001b[0m ┃ -160.0°\u001b[0m ┃ 160.0°\u001b[0m ┃\n",
       "┃ q2\u001b[0m ┃                  0\u001b[0m ┃ 0.4318\u001b[0m ┃   0.0°\u001b[0m ┃ -110.0°\u001b[0m ┃ 110.0°\u001b[0m ┃\n",
       "┃ q3\u001b[0m ┃            0.15005\u001b[0m ┃ 0.0203\u001b[0m ┃ -90.0°\u001b[0m ┃ -135.0°\u001b[0m ┃ 135.0°\u001b[0m ┃\n",
       "┃ q4\u001b[0m ┃             0.4318\u001b[0m ┃      0\u001b[0m ┃  90.0°\u001b[0m ┃ -266.0°\u001b[0m ┃ 266.0°\u001b[0m ┃\n",
       "┃ q5\u001b[0m ┃                  0\u001b[0m ┃      0\u001b[0m ┃ -90.0°\u001b[0m ┃ -100.0°\u001b[0m ┃ 100.0°\u001b[0m ┃\n",
       "┃ q6\u001b[0m ┃                  0\u001b[0m ┃      0\u001b[0m ┃   0.0°\u001b[0m ┃ -266.0°\u001b[0m ┃ 266.0°\u001b[0m ┃\n",
       "┗━━━━┻━━━━━━━━━━━━━━━━━━━━┻━━━━━━━━┻━━━━━━━━┻━━━━━━━━━┻━━━━━━━━┛\n",
       "\n",
       "┌─────┬─────┬──────┬───────┬─────┬──────┬─────┐\n",
       "│name │ q0  │ q1   │ q2    │ q3  │ q4   │ q5  │\n",
       "├─────┼─────┼──────┼───────┼─────┼──────┼─────┤\n",
       "│  qz\u001b[0m │  0°\u001b[0m │  0°\u001b[0m  │  0°\u001b[0m   │  0°\u001b[0m │  0°\u001b[0m  │  0°\u001b[0m │\n",
       "│  qr\u001b[0m │  0°\u001b[0m │  90°\u001b[0m │ -90°\u001b[0m  │  0°\u001b[0m │  0°\u001b[0m  │  0°\u001b[0m │\n",
       "│  qs\u001b[0m │  0°\u001b[0m │  0°\u001b[0m  │ -90°\u001b[0m  │  0°\u001b[0m │  0°\u001b[0m  │  0°\u001b[0m │\n",
       "│  qn\u001b[0m │  0°\u001b[0m │  45°\u001b[0m │  180°\u001b[0m │  0°\u001b[0m │  45°\u001b[0m │  0°\u001b[0m │\n",
       "└─────┴─────┴──────┴───────┴─────┴──────┴─────┘"
      ]
     },
     "execution_count": 86,
     "metadata": {},
     "output_type": "execute_result"
    }
   ],
   "source": [
    "puma = models.DH.Puma560()"
   ]
  },
  {
   "cell_type": "code",
   "execution_count": 87,
   "metadata": {},
   "outputs": [
    {
     "data": {
      "text/plain": [
       "  \u001b[38;5;1m 0.121698   \u001b[0m\u001b[38;5;1m-0.606672   \u001b[0m\u001b[38;5;1m-0.785582   \u001b[0m\u001b[38;5;4m 0.247803   \u001b[0m  \u001b[0m\n",
       "  \u001b[38;5;1m 0.818364   \u001b[0m\u001b[38;5;1m 0.509197   \u001b[0m\u001b[38;5;1m-0.266456   \u001b[0m\u001b[38;5;4m-0.12594    \u001b[0m  \u001b[0m\n",
       "  \u001b[38;5;1m 0.561667   \u001b[0m\u001b[38;5;1m-0.610465   \u001b[0m\u001b[38;5;1m 0.558446   \u001b[0m\u001b[38;5;4m 1.14629    \u001b[0m  \u001b[0m\n",
       "  \u001b[38;5;244m 0          \u001b[0m\u001b[38;5;244m 0          \u001b[0m\u001b[38;5;244m 0          \u001b[0m\u001b[38;5;244m 1          \u001b[0m  \u001b[0m\n"
      ]
     },
     "execution_count": 87,
     "metadata": {},
     "output_type": "execute_result"
    }
   ],
   "source": [
    "T = puma.fkine([0.1, 0.2, 0.3, 0.4, 0.5, 0.6])"
   ]
  },
  {
   "cell_type": "code",
   "execution_count": 88,
   "metadata": {},
   "outputs": [
    {
     "data": {
      "text/plain": [
       "IKsolution(q=array([     0.1,      0.2,      0.3,      0.4,      0.5,      0.6]), success=True, reason=None, iterations=12, residual=8.515092622288915e-13)"
      ]
     },
     "execution_count": 88,
     "metadata": {},
     "output_type": "execute_result"
    }
   ],
   "source": [
    "sol = puma.ikine_LM(T)"
   ]
  },
  {
   "cell_type": "code",
   "execution_count": 90,
   "metadata": {},
   "outputs": [
    {
     "data": {
      "image/png": "[encoded data removed]",
      "text/plain": [
       "<Figure size 432x288 with 1 Axes>"
      ]
     },
     "metadata": {},
     "output_type": "display_data"
    },
    {
     "data": {
      "text/plain": [
       "<Figure size 432x288 with 0 Axes>"
      ]
     },
     "metadata": {},
     "output_type": "display_data"
    }
   ],
   "source": [
    "puma.plot(sol.q, block=False);"
   ]
  },
  {
   "cell_type": "code",
   "execution_count": 91,
   "metadata": {},
   "outputs": [
    {
     "data": {
      "text/plain": [
       "IKsolution(q=array([   2.101,    1.116,      0.3,   0.9528,   -1.651,   -0.986]), success=True, reason='')"
      ]
     },
     "execution_count": 91,
     "metadata": {},
     "output_type": "execute_result"
    }
   ],
   "source": [
    "puma.ikine_a(T, config=\"lun\")"
   ]
  },
  {
   "cell_type": "code",
   "execution_count": 92,
   "metadata": {},
   "outputs": [],
   "source": [
    "from roboticstoolbox import ETS as ET"
   ]
  },
  {
   "cell_type": "code",
   "execution_count": 94,
   "metadata": {},
   "outputs": [],
   "source": [
    "# Puma dimensions (m), see RVC2 Fig. 7.4 for details\n",
    "l1 = 0.672\n",
    "l2 = -0.2337\n",
    "l3 = 0.4318\n",
    "l4 = 0.0203\n",
    "l5 = 0.0837\n",
    "l6 = 0.4318;"
   ]
  },
  {
   "cell_type": "code",
   "execution_count": 95,
   "metadata": {},
   "outputs": [
    {
     "data": {
      "text/plain": [
       "tz(0.672) * Rz(q0) * ty(-0.2337) * Ry(q1) * tz(0.4318) * tx(0.0203) * ty(0.0837) * Ry(q2) * tz(0.4318) * Rz(q3) * Ry(q4) * Rz(q5)"
      ]
     },
     "execution_count": 95,
     "metadata": {},
     "output_type": "execute_result"
    }
   ],
   "source": [
    "e = ET.tz(l1) * ET.rz() * ET.ty(l2) * ET.ry() \\\n",
    "    * ET.tz(l3) * ET.tx(l4) * ET.ty(l5) * ET.ry() \\\n",
    "    * ET.tz(l6) * ET.rz() * ET.ry() * ET.rz()"
   ]
  },
  {
   "cell_type": "code",
   "execution_count": 96,
   "metadata": {},
   "outputs": [
    {
     "name": "stdout",
     "output_type": "stream",
     "text": [
      "noname (by ): 6 axes (RRRRRR), ETS model\n",
      "┌───┬────────┬────────┬───────┬────────────────────────────────────────────────────────────────────┐\n",
      "│id │  link  │ parent │ joint │                                ETS                                 │\n",
      "├───┼────────┼────────┼───────┼────────────────────────────────────────────────────────────────────┤\n",
      "│ 0\u001b[0m │  link0\u001b[0m │    _O_\u001b[0m │      \u001b[0m │ {link0} = {_O_}  * tz(0.672) * Rz(q0)\u001b[0m                              │\n",
      "│ 1\u001b[0m │  link1\u001b[0m │  link0\u001b[0m │  None\u001b[0m │ {link1} = {link0}  * ty(-0.2337) * Ry(q1)\u001b[0m                          │\n",
      "│ 2\u001b[0m │  link2\u001b[0m │  link1\u001b[0m │  None\u001b[0m │ {link2} = {link1}  * tz(0.4318) * tx(0.0203) * ty(0.0837) * Ry(q2)\u001b[0m │\n",
      "│ 3\u001b[0m │  link3\u001b[0m │  link2\u001b[0m │  None\u001b[0m │ {link3} = {link2}  * tz(0.4318) * Rz(q3)\u001b[0m                           │\n",
      "│ 4\u001b[0m │  link4\u001b[0m │  link3\u001b[0m │  None\u001b[0m │ {link4} = {link3}  * Ry(q4)\u001b[0m                                        │\n",
      "│ 5\u001b[0m │ @link5\u001b[0m │  link4\u001b[0m │  None\u001b[0m │ {link5} = {link4}  * Rz(q5)\u001b[0m                                        │\n",
      "└───┴────────┴────────┴───────┴────────────────────────────────────────────────────────────────────┘\n",
      "\n"
     ]
    }
   ],
   "source": [
    "robot = ERobot(e)\n",
    "print(robot)"
   ]
  },
  {
   "cell_type": "code",
   "execution_count": 97,
   "metadata": {
    "lines_to_next_cell": 2
   },
   "outputs": [
    {
     "name": "stdout",
     "output_type": "stream",
     "text": [
      "panda (by Franka Emika): 7 axes (RRRRRRR), ETS model\n",
      "┌───┬──────────────┬─────────────┬──────────────┬──────────────────────────────────────────────────────────────────────────────┐\n",
      "│id │     link     │   parent    │    joint     │                                     ETS                                      │\n",
      "├───┼──────────────┼─────────────┼──────────────┼──────────────────────────────────────────────────────────────────────────────┤\n",
      "│ 0\u001b[0m │  \u001b[38;5;4mpanda_link0\u001b[0m │         _O_\u001b[0m │             \u001b[0m │ {panda_link0} = {_O_} \u001b[0m                                                       │\n",
      "│ 1\u001b[0m │  panda_link1\u001b[0m │ panda_link0\u001b[0m │ panda_joint1\u001b[0m │ {panda_link1} = {panda_link0}  * tz(0.333) * Rz(q0)\u001b[0m                          │\n",
      "│ 2\u001b[0m │  panda_link2\u001b[0m │ panda_link1\u001b[0m │ panda_joint2\u001b[0m │ {panda_link2} = {panda_link1}  * Rx(-90°) * Rz(q1)\u001b[0m                           │\n",
      "│ 3\u001b[0m │  panda_link3\u001b[0m │ panda_link2\u001b[0m │ panda_joint3\u001b[0m │ {panda_link3} = {panda_link2}  * ty(-0.316) * Rx(90°) * Rz(q2)\u001b[0m               │\n",
      "│ 4\u001b[0m │  panda_link4\u001b[0m │ panda_link3\u001b[0m │ panda_joint4\u001b[0m │ {panda_link4} = {panda_link3}  * tx(0.0825) * Rx(90°) * Rz(q3)\u001b[0m               │\n",
      "│ 5\u001b[0m │  panda_link5\u001b[0m │ panda_link4\u001b[0m │ panda_joint5\u001b[0m │ {panda_link5} = {panda_link4}  * tx(-0.0825) * ty(0.384) * Rx(-90°) * Rz(q4)\u001b[0m │\n",
      "│ 6\u001b[0m │  panda_link6\u001b[0m │ panda_link5\u001b[0m │ panda_joint6\u001b[0m │ {panda_link6} = {panda_link5}  * Rx(90°) * Rz(q5)\u001b[0m                            │\n",
      "│ 7\u001b[0m │  panda_link7\u001b[0m │ panda_link6\u001b[0m │ panda_joint7\u001b[0m │ {panda_link7} = {panda_link6}  * tx(0.088) * Rx(90°) * Rz(q6)\u001b[0m                │\n",
      "│ 8\u001b[0m │ \u001b[38;5;4m@panda_link8\u001b[0m │ panda_link7\u001b[0m │ panda_joint8\u001b[0m │ {panda_link8} = {panda_link7}  * tz(0.107)\u001b[0m                                   │\n",
      "└───┴──────────────┴─────────────┴──────────────┴──────────────────────────────────────────────────────────────────────────────┘\n",
      "\n",
      "┌─────┬─────┬────────┬─────┬───────┬─────┬───────┬──────┐\n",
      "│name │ q0  │ q1     │ q2  │ q3    │ q4  │ q5    │ q6   │\n",
      "├─────┼─────┼────────┼─────┼───────┼─────┼───────┼──────┤\n",
      "│  qz\u001b[0m │  0°\u001b[0m │  0°\u001b[0m    │  0°\u001b[0m │  0°\u001b[0m   │  0°\u001b[0m │  0°\u001b[0m   │  0°\u001b[0m  │\n",
      "│  qr\u001b[0m │  0°\u001b[0m │ -17.2°\u001b[0m │  0°\u001b[0m │ -126°\u001b[0m │  0°\u001b[0m │  115°\u001b[0m │  45°\u001b[0m │\n",
      "└─────┴─────┴────────┴─────┴───────┴─────┴───────┴──────┘\n",
      "\n"
     ]
    }
   ],
   "source": [
    "panda = models.URDF.Panda()\n",
    "print(panda)"
   ]
  },
  {
   "cell_type": "markdown",
   "metadata": {},
   "source": [
    "## B. Trajectories"
   ]
  },
  {
   "cell_type": "code",
   "execution_count": 99,
   "metadata": {},
   "outputs": [
    {
     "data": {
      "image/png": "[encoded data removed]",
      "text/plain": [
       "<Figure size 432x288 with 1 Axes>"
      ]
     },
     "metadata": {},
     "output_type": "display_data"
    }
   ],
   "source": [
    "traj = jtraj(puma.qz, puma.qr, 100)\n",
    "qplot(traj.q)"
   ]
  },
  {
   "cell_type": "code",
   "execution_count": 101,
   "metadata": {},
   "outputs": [
    {
     "data": {
      "text/plain": [
       "  \u001b[38;5;1m 1          \u001b[0m\u001b[38;5;1m 0          \u001b[0m\u001b[38;5;1m 0          \u001b[0m\u001b[38;5;4m 0.6        \u001b[0m  \u001b[0m\n",
       "  \u001b[38;5;1m 0          \u001b[0m\u001b[38;5;1m 1          \u001b[0m\u001b[38;5;1m 0          \u001b[0m\u001b[38;5;4m-0.5        \u001b[0m  \u001b[0m\n",
       "  \u001b[38;5;1m 0          \u001b[0m\u001b[38;5;1m 0          \u001b[0m\u001b[38;5;1m 1          \u001b[0m\u001b[38;5;4m 0.3        \u001b[0m  \u001b[0m\n",
       "  \u001b[38;5;244m 0          \u001b[0m\u001b[38;5;244m 0          \u001b[0m\u001b[38;5;244m 0          \u001b[0m\u001b[38;5;244m 1          \u001b[0m  \u001b[0m\n"
      ]
     },
     "execution_count": 101,
     "metadata": {},
     "output_type": "execute_result"
    }
   ],
   "source": [
    "t = np.arange(0, 2, 0.010)\n",
    "T0 = SE3(0.6, -0.5, 0.3)"
   ]
  },
  {
   "cell_type": "code",
   "execution_count": 102,
   "metadata": {},
   "outputs": [
    {
     "data": {
      "text/plain": [
       "  \u001b[38;5;1m 1          \u001b[0m\u001b[38;5;1m 0          \u001b[0m\u001b[38;5;1m 0          \u001b[0m\u001b[38;5;4m 0.4        \u001b[0m  \u001b[0m\n",
       "  \u001b[38;5;1m 0          \u001b[0m\u001b[38;5;1m 1          \u001b[0m\u001b[38;5;1m 0          \u001b[0m\u001b[38;5;4m 0.5        \u001b[0m  \u001b[0m\n",
       "  \u001b[38;5;1m 0          \u001b[0m\u001b[38;5;1m 0          \u001b[0m\u001b[38;5;1m 1          \u001b[0m\u001b[38;5;4m 0.2        \u001b[0m  \u001b[0m\n",
       "  \u001b[38;5;244m 0          \u001b[0m\u001b[38;5;244m 0          \u001b[0m\u001b[38;5;244m 0          \u001b[0m\u001b[38;5;244m 1          \u001b[0m  \u001b[0m\n"
      ]
     },
     "execution_count": 102,
     "metadata": {},
     "output_type": "execute_result"
    }
   ],
   "source": [
    "T1 = SE3(0.4, 0.5, 0.2)"
   ]
  },
  {
   "cell_type": "code",
   "execution_count": 103,
   "metadata": {},
   "outputs": [
    {
     "data": {
      "text/plain": [
       "200"
      ]
     },
     "execution_count": 103,
     "metadata": {},
     "output_type": "execute_result"
    }
   ],
   "source": [
    "Ts = ctraj(T0, T1, t)\n",
    "len(Ts)"
   ]
  },
  {
   "cell_type": "code",
   "execution_count": 104,
   "metadata": {},
   "outputs": [
    {
     "data": {
      "text/plain": [
       "(200, 6)"
      ]
     },
     "execution_count": 104,
     "metadata": {},
     "output_type": "execute_result"
    }
   ],
   "source": [
    "sol = puma.ikine_LM(Ts)\n",
    "sol.q.shape"
   ]
  },
  {
   "cell_type": "markdown",
   "metadata": {},
   "source": [
    "## C. Symbolic manipulation"
   ]
  },
  {
   "cell_type": "code",
   "execution_count": 105,
   "metadata": {},
   "outputs": [
    {
     "data": {
      "text/plain": [
       "array([[cos(ψ)*cos(ϴ), sin(φ)*sin(ϴ)*cos(ψ) - sin(ψ)*cos(φ), sin(φ)*sin(ψ) + sin(ϴ)*cos(φ)*cos(ψ)],\n",
       "       [sin(ψ)*cos(ϴ), sin(φ)*sin(ψ)*sin(ϴ) + cos(φ)*cos(ψ),\n",
       "        -sin(φ)*cos(ψ) + sin(ψ)*sin(ϴ)*cos(φ)],\n",
       "       [-sin(ϴ), sin(φ)*cos(ϴ), cos(φ)*cos(ϴ)]], dtype=object)"
      ]
     },
     "execution_count": 105,
     "metadata": {},
     "output_type": "execute_result"
    }
   ],
   "source": [
    "import spatialmath.base.symbolic as sym\n",
    "phi, theta, psi = sym.symbol('φ, ϴ, ψ')\n",
    "rpy2r(phi, theta, psi)"
   ]
  },
  {
   "cell_type": "code",
   "execution_count": 107,
   "metadata": {},
   "outputs": [],
   "source": [
    "q = sym.symbol(\"q_:6\") # q = (q_1, q_2, ... q_5)\n",
    "T = puma.fkine(q);"
   ]
  },
  {
   "cell_type": "code",
   "execution_count": 108,
   "metadata": {},
   "outputs": [
    {
     "data": {
      "text/latex": [
       "$\\displaystyle 0.15005 \\sin{\\left(q_{0} \\right)} - 0.0203 \\sin{\\left(q_{1} \\right)} \\sin{\\left(q_{2} \\right)} \\cos{\\left(q_{0} \\right)} - 0.4318 \\sin{\\left(q_{1} \\right)} \\cos{\\left(q_{0} \\right)} \\cos{\\left(q_{2} \\right)} - 0.4318 \\sin{\\left(q_{2} \\right)} \\cos{\\left(q_{0} \\right)} \\cos{\\left(q_{1} \\right)} + 0.0203 \\cos{\\left(q_{0} \\right)} \\cos{\\left(q_{1} \\right)} \\cos{\\left(q_{2} \\right)} + 0.4318 \\cos{\\left(q_{0} \\right)} \\cos{\\left(q_{1} \\right)}$"
      ],
      "text/plain": [
       "0.15005*sin(q_0) - 0.0203*sin(q_1)*sin(q_2)*cos(q_0) - 0.4318*sin(q_1)*cos(q_0)*cos(q_2) - 0.4318*sin(q_2)*cos(q_0)*cos(q_1) + 0.0203*cos(q_0)*cos(q_1)*cos(q_2) + 0.4318*cos(q_0)*cos(q_1)"
      ]
     },
     "execution_count": 108,
     "metadata": {},
     "output_type": "execute_result"
    }
   ],
   "source": [
    "puma = models.DH.Puma560(symbolic=True)\n",
    "T = puma.fkine(q)\n",
    "T.t[0]"
   ]
  },
  {
   "cell_type": "code",
   "execution_count": 109,
   "metadata": {},
   "outputs": [
    {
     "data": {
      "text/plain": [
       "array([[  0.1501,  0.01435,   0.3197,        0,        0,        0],\n",
       "       [  0.5963,        0,        0,        0,        0,        0],\n",
       "       [       0,   0.5963,    0.291,        0,        0,        0],\n",
       "       [       0,        0,        0,   0.7071,        0,        1],\n",
       "       [       0,       -1,       -1,        0,       -1,        0],\n",
       "       [       1,        0,        0,  -0.7071,        0,        0]])"
      ]
     },
     "execution_count": 109,
     "metadata": {},
     "output_type": "execute_result"
    }
   ],
   "source": [
    "puma = models.DH.Puma560(symbolic=False)\n",
    "J = puma.jacob0(puma.qn)"
   ]
  },
  {
   "cell_type": "code",
   "execution_count": 110,
   "metadata": {},
   "outputs": [
    {
     "data": {
      "text/plain": [
       "array([[       0,  -0.5963,   -0.291,        0,        0,        0],\n",
       "       [  0.5963,        0,        0,        0,        0,        0],\n",
       "       [    0.15,  0.01435,   0.3197,        0,        0,        0],\n",
       "       [      -1,        0,        0,   0.7071,        0,        0],\n",
       "       [       0,       -1,       -1,        0,       -1,        0],\n",
       "       [       0,        0,        0,   0.7071,        0,        1]])"
      ]
     },
     "execution_count": 110,
     "metadata": {},
     "output_type": "execute_result"
    }
   ],
   "source": [
    "J = puma.jacobe(puma.qn)"
   ]
  },
  {
   "cell_type": "markdown",
   "metadata": {},
   "source": [
    "## D. Differential kinematics"
   ]
  },
  {
   "cell_type": "code",
   "execution_count": 111,
   "metadata": {},
   "outputs": [
    {
     "data": {
      "text/plain": [
       "array([[    0.15,  -0.8636,  -0.4318,        0,        0,        0],\n",
       "       [  0.0203,        0,        0,        0,        0,        0],\n",
       "       [       0,   0.0203,   0.0203,        0,        0,        0],\n",
       "       [       0,        0,        0,        0,        0,        0],\n",
       "       [       0,       -1,       -1,        0,       -1,        0],\n",
       "       [       1,        0,        0,        1,        0,        1]])"
      ]
     },
     "execution_count": 111,
     "metadata": {},
     "output_type": "execute_result"
    }
   ],
   "source": [
    "J = puma.jacob0(puma.qr)"
   ]
  },
  {
   "cell_type": "code",
   "execution_count": 112,
   "metadata": {},
   "outputs": [
    {
     "data": {
      "text/plain": [
       "5"
      ]
     },
     "execution_count": 112,
     "metadata": {},
     "output_type": "execute_result"
    }
   ],
   "source": [
    "np.linalg.matrix_rank(J)"
   ]
  },
  {
   "cell_type": "code",
   "execution_count": 113,
   "metadata": {},
   "outputs": [
    {
     "name": "stdout",
     "output_type": "stream",
     "text": [
      "joint 5 is dependent on joint 3\n"
     ]
    }
   ],
   "source": [
    "jsingu(J)"
   ]
  },
  {
   "cell_type": "code",
   "execution_count": 114,
   "metadata": {},
   "outputs": [
    {
     "data": {
      "text/plain": [
       "(6, 7, 7)"
      ]
     },
     "execution_count": 114,
     "metadata": {},
     "output_type": "execute_result"
    }
   ],
   "source": [
    "H = panda.hessian0(panda.qz)\n",
    "H.shape"
   ]
  },
  {
   "cell_type": "code",
   "execution_count": 116,
   "metadata": {},
   "outputs": [
    {
     "data": {
      "text/plain": [
       "0.07861716534599998"
      ]
     },
     "execution_count": 116,
     "metadata": {},
     "output_type": "execute_result"
    }
   ],
   "source": [
    "puma.manipulability(puma.qn)"
   ]
  },
  {
   "cell_type": "code",
   "execution_count": 117,
   "metadata": {},
   "outputs": [
    {
     "data": {
      "text/plain": [
       "0.0043746137281665"
      ]
     },
     "execution_count": 117,
     "metadata": {},
     "output_type": "execute_result"
    }
   ],
   "source": [
    "puma.manipulability(puma.qn, method=\"asada\")"
   ]
  },
  {
   "cell_type": "code",
   "execution_count": 118,
   "metadata": {},
   "outputs": [
    {
     "data": {
      "text/plain": [
       "0.11118146146764128"
      ]
     },
     "execution_count": 118,
     "metadata": {},
     "output_type": "execute_result"
    }
   ],
   "source": [
    "puma.manipulability(puma.qn, axes=\"trans\")"
   ]
  },
  {
   "cell_type": "code",
   "execution_count": 119,
   "metadata": {
    "lines_to_next_cell": 2
   },
   "outputs": [
    {
     "data": {
      "text/plain": [
       "array([[       0],\n",
       "       [-0.002627],\n",
       "       [       0],\n",
       "       [ 0.04064],\n",
       "       [       0],\n",
       "       [-0.02734],\n",
       "       [       0]])"
      ]
     },
     "execution_count": 119,
     "metadata": {},
     "output_type": "execute_result"
    }
   ],
   "source": [
    "panda.jacobm(panda.qr)"
   ]
  },
  {
   "cell_type": "markdown",
   "metadata": {},
   "source": [
    "## E. Dynamics"
   ]
  },
  {
   "cell_type": "code",
   "execution_count": 126,
   "metadata": {
    "lines_to_next_cell": 2
   },
   "outputs": [
    {
     "data": {
      "text/plain": [
       "array([       0,      31.64,      6.035,        0,    0.02825,        0])"
      ]
     },
     "execution_count": 126,
     "metadata": {},
     "output_type": "execute_result"
    }
   ],
   "source": [
    "tau = puma.rne(puma.qn, np.zeros((6,)), np.zeros((6,)))"
   ]
  },
  {
   "cell_type": "code",
   "execution_count": 129,
   "metadata": {
    "lines_to_next_cell": 2
   },
   "outputs": [
    {
     "data": {
      "text/plain": [
       "array([[     3.659,    -0.4044,     0.1006,  -0.002517,        0,        0],\n",
       "       [   -0.4044,      4.414,     0.3509,        0,    0.00236,        0],\n",
       "       [    0.1006,     0.3509,     0.9378,        0,    0.00148,        0],\n",
       "       [ -0.002517,        0,        0,     0.1925,        0,  2.828e-05],\n",
       "       [       0,    0.00236,    0.00148,        0,     0.1713,        0],\n",
       "       [       0,        0,        0,  2.828e-05,        0,     0.1941]])"
      ]
     },
     "execution_count": 129,
     "metadata": {},
     "output_type": "execute_result"
    }
   ],
   "source": [
    "J = puma.inertia(puma.qn)"
   ]
  },
  {
   "cell_type": "code",
   "execution_count": 130,
   "metadata": {
    "lines_to_next_cell": 2
   },
   "outputs": [
    {
     "data": {
      "text/plain": [
       "array([[   -0.0267,    -0.1291,    0.01696, -3.344e-05, -0.0002789,      6e-06],\n",
       "       [   0.06274,    0.03857,    0.07715, -0.0001552,  -1.24e-05, -5.858e-07],\n",
       "       [  -0.03607,   -0.03867, -9.207e-05, -9.304e-05, -0.0002762, -5.858e-07],\n",
       "       [ 4.001e-05,  5.718e-05, -4.998e-06,  1.011e-05,  2.425e-05, -4.243e-06],\n",
       "       [-1.756e-05,   9.62e-05,  0.0001841, -2.425e-05,        0, -5.858e-07],\n",
       "       [     6e-06,  3.414e-06,  3.414e-06,  1.414e-06,  5.858e-07,        0]])"
      ]
     },
     "execution_count": 130,
     "metadata": {},
     "output_type": "execute_result"
    }
   ],
   "source": [
    "C = puma.coriolis(puma.qn, 0.1 * np.ones((6,)))"
   ]
  },
  {
   "cell_type": "code",
   "execution_count": 131,
   "metadata": {
    "lines_to_next_cell": 2
   },
   "outputs": [
    {
     "data": {
      "text/plain": [
       "array([       0,      31.64,      6.035,        0,    0.02825,        0])"
      ]
     },
     "execution_count": 131,
     "metadata": {},
     "output_type": "execute_result"
    }
   ],
   "source": [
    "g = puma.gravload(puma.qn)"
   ]
  },
  {
   "cell_type": "code",
   "execution_count": 132,
   "metadata": {
    "lines_to_next_cell": 2
   },
   "outputs": [
    {
     "data": {
      "text/plain": [
       "array([     147.6,     -133.7,      406.4,     -2.494,     -8.281,  0.0003634])"
      ]
     },
     "execution_count": 132,
     "metadata": {},
     "output_type": "execute_result"
    }
   ],
   "source": [
    "qdd = puma.accel(puma.qn, tau, np.zeros((6,)))"
   ]
  },
  {
   "cell_type": "markdown",
   "metadata": {},
   "source": [
    "# V. NEW CAPABILITY\n",
    "## B. Collision checking"
   ]
  },
  {
   "cell_type": "code",
   "execution_count": 133,
   "metadata": {},
   "outputs": [
    {
     "data": {
      "text/plain": [
       "False"
      ]
     },
     "execution_count": 133,
     "metadata": {},
     "output_type": "execute_result"
    }
   ],
   "source": [
    "obstacle = Box([1, 1, 1], SE3(1, 0, 0)) \n",
    "iscollision = panda.collided(obstacle) # boolean\n",
    "iscollision = panda.links[0].collided(obstacle)"
   ]
  },
  {
   "cell_type": "code",
   "execution_count": 134,
   "metadata": {},
   "outputs": [
    {
     "name": "stdout",
     "output_type": "stream",
     "text": [
      "0.4276   \u001b[38;5;1m 1          \u001b[0m\u001b[38;5;1m 0          \u001b[0m\u001b[38;5;1m 0          \u001b[0m\u001b[38;5;4m 0.0724     \u001b[0m  \u001b[0m\n",
      "  \u001b[38;5;1m 0          \u001b[0m\u001b[38;5;1m 1          \u001b[0m\u001b[38;5;1m 0          \u001b[0m\u001b[38;5;4m 0.0424     \u001b[0m  \u001b[0m\n",
      "  \u001b[38;5;1m 0          \u001b[0m\u001b[38;5;1m 0          \u001b[0m\u001b[38;5;1m 1          \u001b[0m\u001b[38;5;4m-0.02       \u001b[0m  \u001b[0m\n",
      "  \u001b[38;5;244m 0          \u001b[0m\u001b[38;5;244m 0          \u001b[0m\u001b[38;5;244m 0          \u001b[0m\u001b[38;5;244m 1          \u001b[0m  \u001b[0m\n",
      "   \u001b[38;5;1m 1          \u001b[0m\u001b[38;5;1m 0          \u001b[0m\u001b[38;5;1m 0          \u001b[0m\u001b[38;5;4m 0.5        \u001b[0m  \u001b[0m\n",
      "  \u001b[38;5;1m 0          \u001b[0m\u001b[38;5;1m 1          \u001b[0m\u001b[38;5;1m 0          \u001b[0m\u001b[38;5;4m 0.0424     \u001b[0m  \u001b[0m\n",
      "  \u001b[38;5;1m 0          \u001b[0m\u001b[38;5;1m 0          \u001b[0m\u001b[38;5;1m 1          \u001b[0m\u001b[38;5;4m-0.02       \u001b[0m  \u001b[0m\n",
      "  \u001b[38;5;244m 0          \u001b[0m\u001b[38;5;244m 0          \u001b[0m\u001b[38;5;244m 0          \u001b[0m\u001b[38;5;244m 1          \u001b[0m  \u001b[0m\n",
      "\n",
      "0.5   \u001b[38;5;1m 1          \u001b[0m\u001b[38;5;1m 0          \u001b[0m\u001b[38;5;1m 0          \u001b[0m\u001b[38;5;4m 0          \u001b[0m  \u001b[0m\n",
      "  \u001b[38;5;1m 0          \u001b[0m\u001b[38;5;1m 1          \u001b[0m\u001b[38;5;1m 0          \u001b[0m\u001b[38;5;4m 0          \u001b[0m  \u001b[0m\n",
      "  \u001b[38;5;1m 0          \u001b[0m\u001b[38;5;1m 0          \u001b[0m\u001b[38;5;1m 1          \u001b[0m\u001b[38;5;4m 0.06       \u001b[0m  \u001b[0m\n",
      "  \u001b[38;5;244m 0          \u001b[0m\u001b[38;5;244m 0          \u001b[0m\u001b[38;5;244m 0          \u001b[0m\u001b[38;5;244m 1          \u001b[0m  \u001b[0m\n",
      "   \u001b[38;5;1m 1          \u001b[0m\u001b[38;5;1m 0          \u001b[0m\u001b[38;5;1m 0          \u001b[0m\u001b[38;5;4m 0.5        \u001b[0m  \u001b[0m\n",
      "  \u001b[38;5;1m 0          \u001b[0m\u001b[38;5;1m 1          \u001b[0m\u001b[38;5;1m 0          \u001b[0m\u001b[38;5;4m 0          \u001b[0m  \u001b[0m\n",
      "  \u001b[38;5;1m 0          \u001b[0m\u001b[38;5;1m 0          \u001b[0m\u001b[38;5;1m 1          \u001b[0m\u001b[38;5;4m 0.06       \u001b[0m  \u001b[0m\n",
      "  \u001b[38;5;244m 0          \u001b[0m\u001b[38;5;244m 0          \u001b[0m\u001b[38;5;244m 0          \u001b[0m\u001b[38;5;244m 1          \u001b[0m  \u001b[0m\n",
      "\n"
     ]
    }
   ],
   "source": [
    "d, p1, p2 = panda.closest_point(obstacle)\n",
    "print(d, p1, p2)\n",
    "d, p1, p2 = panda.links[0].closest_point(obstacle)\n",
    "print(d, p1, p2)"
   ]
  },
  {
   "cell_type": "markdown",
   "metadata": {},
   "source": [
    "## C. Interfaces"
   ]
  },
  {
   "cell_type": "code",
   "execution_count": 135,
   "metadata": {},
   "outputs": [
    {
     "data": {
      "text/plain": [
       "<roboticstoolbox.backends.Swift.Swift.Swift at 0x7f95c0737f10>"
      ]
     },
     "execution_count": 135,
     "metadata": {},
     "output_type": "execute_result"
    }
   ],
   "source": [
    "panda.plot(panda.qr, block=False);"
   ]
  },
  {
   "cell_type": "code",
   "execution_count": null,
   "metadata": {},
   "outputs": [],
   "source": [
    "from roboticstoolbox.backends.Swift import Swift\n",
    "backend = Swift()\n",
    "backend.launch()   # create graphical world\n",
    "backend.add(panda) # add robot to the world\n",
    "panda.q = panda.qr        # update the robot\n",
    "backend.step()    # display the world"
   ]
  }
 ],
 "metadata": {
  "jupytext": {
   "cell_metadata_filter": "-all",
   "encoding": "# -*- coding: utf-8 -*-",
   "notebook_metadata_filter": "-all",
   "text_representation": {
    "extension": ".py",
    "format_name": "light"
   }
  },
  "kernelspec": {
   "display_name": "Python 3",
   "language": "python",
   "name": "python3"
  },
  "language_info": {
   "codemirror_mode": {
    "name": "ipython",
    "version": 3
   },
   "file_extension": ".py",
   "mimetype": "text/x-python",
   "name": "python",
   "nbconvert_exporter": "python",
   "pygments_lexer": "ipython3",
   "version": "3.8.5"
  },
  "varInspector": {
   "cols": {
    "lenName": 16,
    "lenType": 16,
    "lenVar": 40
   },
   "kernels_config": {
    "python": {
     "delete_cmd_postfix": "",
     "delete_cmd_prefix": "del ",
     "library": "var_list.py",
     "varRefreshCmd": "print(var_dic_list())"
    },
    "r": {
     "delete_cmd_postfix": ") ",
     "delete_cmd_prefix": "rm(",
     "library": "var_list.r",
     "varRefreshCmd": "cat(var_dic_list()) "
    }
   },
   "types_to_exclude": [
    "module",
    "function",
    "builtin_function_or_method",
    "instance",
    "_Feature"
   ],
   "window_display": false
  }
 },
 "nbformat": 4,
 "nbformat_minor": 4
}
